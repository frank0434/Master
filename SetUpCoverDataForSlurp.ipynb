{
 "cells": [
  {
   "cell_type": "markdown",
   "metadata": {},
   "source": [
    "# Background Information \n",
    "\n",
    "The slurp model requirs three essential inputs:  \n",
    "1. Met.   \n",
    "2. Canopy cover. \n",
    "3. Initial soil conditions. \n",
    "\n",
    "\n",
    "Model set up   \n",
    "1. No notion of population or rowSpacing. but need to be provided via   \n",
    "```Slurp.Sow(cultivar: StaticCrop, population: 1, depth: 10, rowSpacing: 150);```\n",
    "\n",
    "2. Altering Slurp properties during runs  \n",
    "In some cases users will wish to change properties of Slurp while the simulation is running. This can be done using a the set method in a manager script.   \n",
    "```\n",
    "object LAIResetValue = leaflai;\n",
    "zone.Set(\"Slurp.Leaf.LAIFunction.Value()\", LAIResetValue);\n",
    "object HeightResetValue = CoverToday * MaximumHeight;\n",
    "zone.Set(\"Slurp.Leaf.HeightFunction.Value()\", HeightResetValue);\n",
    "```\n",
    "Model is driven by thermal time, so temperature and base temperature are critical?\n",
    "\n",
    "A broken-stick threshold model was used in the thesis \n",
    "\n",
    "Tt is accumulated linearly at a rate of 0.7 °Cd/°C up to 15 °C and then at a rate of 1.0 until 30 \n",
    "\n",
    "$T_b$ = 1\n",
    "$T_t$ = 0.7 °Cd/°C when temperature below 15 \n",
    "$T_t$ = 1 °Cd/°C when temperature is in 15 and 30 \n",
    "\n",
    "\n",
    "\n"
   ]
  },
  {
   "cell_type": "markdown",
   "metadata": {},
   "source": [
    "# Prepare the cover data \n",
    "\n",
    "Light interception was not measured directly due to the instrement reported incorrect measurements for crops grown under droughts.\n",
    "\n",
    "Frational light interception can be calculated from desctructive LAI   \n",
    "\n",
    "$$R/R_0 = 1 - exp(-k\\times LAI)$$\n",
    "\n",
    "where (extinction coefficient) k was obtained by sunscan measurements. more details in the thesis and 2017 paper of Richard's\n",
    "\n",
    "k values differ seasonally. \n",
    "k for all Iversen 12 and spring(Sep - Nov) and autumn(Feb - Apr) on both stone soils - **0.94 $\\pm$ 0.014**  \n",
    "k for summer (Dec - Jan) on both stone soils - **0.66 $\\pm$ 0.013**"
   ]
  },
  {
   "cell_type": "code",
   "execution_count": null,
   "metadata": {},
   "outputs": [],
   "source": [
    "#load packages\n",
    "import sqlite3\n",
    "import re\n",
    "import datetime\n",
    "import pandas as pd\n",
    "import numpy as np\n",
    "import matplotlib.pyplot as plt\n",
    "import seaborn as sns\n",
    "import math"
   ]
  },
  {
   "cell_type": "code",
   "execution_count": null,
   "metadata": {},
   "outputs": [],
   "source": [
    "# Build connection with db\n",
    "con = sqlite3.connect('./03processed-data/Richard.sqlite3')\n",
    "mycur = con.cursor() \n",
    "mycur.execute(\"SELECT name FROM sqlite_master WHERE type='table' ORDER BY name;\")\n",
    "(mycur.fetchall())"
   ]
  },
  {
   "cell_type": "code",
   "execution_count": null,
   "metadata": {},
   "outputs": [],
   "source": [
    "# Read data in \n",
    "biomass = pd.read_sql('Select * from biomass',  con)\n",
    "met_AD = pd.read_sql('Select * from met_AshleyDene', con)\n",
    "met_I12 = pd.read_sql('Select * from met_Iversen12', con)"
   ]
  },
  {
   "cell_type": "code",
   "execution_count": null,
   "metadata": {},
   "outputs": [],
   "source": [
    "LAI_Height = biomass.loc[:, ['Experiment', 'Clock.Today', 'SowingDate', 'Rep',\n",
    "                             'Plot', 'Rotation.No.', 'Harvest.No.', 'Height','LAImod']]"
   ]
  },
  {
   "cell_type": "code",
   "execution_count": null,
   "metadata": {},
   "outputs": [],
   "source": [
    "# Add the k for all \n",
    "LAI_Height['k'] = 0.94\n",
    "# Replace the k for the summur crop in Ashley Dene\n",
    "LAI_Height.loc[(LAI_Height['Clock.Today'] > '2011-11-30') \n",
    "               & (LAI_Height['Clock.Today'] < '2012-03-01') \n",
    "               & (LAI_Height['Experiment'] == 'AshleyDene'), 'k'] = 0.66"
   ]
  },
  {
   "cell_type": "code",
   "execution_count": null,
   "metadata": {},
   "outputs": [],
   "source": [
    "LAI_Height['Date'] = pd.to_datetime(LAI_Height['Clock.Today']).dt.strftime('%Y %b')"
   ]
  },
  {
   "cell_type": "code",
   "execution_count": null,
   "metadata": {},
   "outputs": [],
   "source": [
    "# Check if the replace take effect\n",
    "grid = sns.FacetGrid(LAI_Height, col ='Experiment', row = 'SowingDate', \n",
    "                      hue=\"SowingDate\", palette=\"Set2\",aspect=1.5, sharex=False)\n",
    "grid.map(plt.scatter, 'Date', 'k')\n",
    "grid.set_xticklabels(rotation=45)\n",
    "grid.fig.tight_layout()"
   ]
  },
  {
   "cell_type": "markdown",
   "metadata": {},
   "source": [
    "# Calculate $R/R_0$"
   ]
  },
  {
   "cell_type": "code",
   "execution_count": null,
   "metadata": {},
   "outputs": [],
   "source": [
    "LAI_Height['LI_frac'] = 1 - np.exp( - LAI_Height['k'] * LAI_Height['LAImod'])"
   ]
  },
  {
   "cell_type": "code",
   "execution_count": null,
   "metadata": {},
   "outputs": [],
   "source": [
    "# Check if any weired values. e.g. over 1 or below 0 \n",
    "grid = sns.FacetGrid(LAI_Height, col ='Experiment',\n",
    "                      hue=\"SowingDate\", palette=\"Set1\",aspect=2, sharex=False)\n",
    "grid.map(plt.scatter, 'Date', 'LI_frac')\n",
    "grid.set_xticklabels(rotation=45)\n",
    "grid.fig.tight_layout()"
   ]
  },
  {
   "cell_type": "code",
   "execution_count": null,
   "metadata": {},
   "outputs": [],
   "source": [
    "LAI_Height"
   ]
  },
  {
   "cell_type": "markdown",
   "metadata": {},
   "source": [
    "## Construct the index"
   ]
  },
  {
   "cell_type": "code",
   "execution_count": null,
   "metadata": {},
   "outputs": [],
   "source": [
    "# Select only LI column\n",
    "LI = LAI_Height.loc[:, ['Experiment', 'Clock.Today','SowingDate', \n",
    "                        'Rep', 'Plot', \n",
    "                        'LI_frac']]\n",
    "\n"
   ]
  },
  {
   "cell_type": "code",
   "execution_count": null,
   "metadata": {},
   "outputs": [],
   "source": [
    "LI = LI.pivot_table(index = 'Clock.Today', \n",
    "                    columns=['Experiment', 'SowingDate', \n",
    "                             'Rep', 'Plot'],\n",
    "                    values = 'LI_frac')\n",
    "LI.dtypes"
   ]
  },
  {
   "cell_type": "code",
   "execution_count": null,
   "metadata": {},
   "outputs": [],
   "source": [
    "# Change the index to datetime tyep\n",
    "LI.index = pd.to_datetime(LI.index)\n",
    "# Rename the index name \n",
    "LI.index.name = 'Clock.Today'\n",
    "# Normalise the datetime to midnight \n",
    "LI.index = LI.index.normalize()"
   ]
  },
  {
   "cell_type": "code",
   "execution_count": null,
   "metadata": {},
   "outputs": [],
   "source": [
    "# Check indexs\n",
    "LI.axes"
   ]
  },
  {
   "cell_type": "markdown",
   "metadata": {},
   "source": [
    "## Calcuate the mean LI_frac"
   ]
  },
  {
   "cell_type": "code",
   "execution_count": null,
   "metadata": {},
   "outputs": [],
   "source": [
    "LIGroupedMean = LI.groupby(axis=1, level=['Experiment', 'SowingDate']).mean()"
   ]
  },
  {
   "cell_type": "code",
   "execution_count": null,
   "metadata": {},
   "outputs": [],
   "source": [
    "LIGroupedMean"
   ]
  },
  {
   "cell_type": "code",
   "execution_count": null,
   "metadata": {},
   "outputs": [],
   "source": [
    "# Graph to check the data \n",
    "LIGroupedMean.loc[:,\n",
    "                  [X for X in LIGroupedMean.columns if 'SD1' in X]].plot(figsize=(10, 6),style='o-')"
   ]
  },
  {
   "cell_type": "markdown",
   "metadata": {},
   "source": [
    "# Met data to calculate thermal time "
   ]
  },
  {
   "cell_type": "code",
   "execution_count": null,
   "metadata": {},
   "outputs": [],
   "source": [
    "met_AD = met_AD.loc[:, ['year','day', 'maxt', 'mint','mean']]\n",
    "met_AD['Experiment'] = 'AshleyDene'\n",
    "met_I12 = met_I12.loc[(met_I12['year'] >= 2010)                       \n",
    "                      & (met_I12['year'] < 2013), ['year','day', 'maxt', 'mint','mean']]\n",
    "met_I12['Experiment'] = 'Iversen12'"
   ]
  },
  {
   "cell_type": "code",
   "execution_count": null,
   "metadata": {},
   "outputs": [],
   "source": [
    "met = pd.concat([met_AD, met_I12], ignore_index=True)"
   ]
  },
  {
   "cell_type": "code",
   "execution_count": null,
   "metadata": {},
   "outputs": [],
   "source": [
    "# Change 4 digits year to the first date of the year\n",
    "met['year'] = [str(year) + '-01-01' for year in met['year']]\n",
    "met['year'] = pd.to_datetime(met['year'])\n",
    "# Change the day to a delta days and add back to the year \n",
    "met['Clock.Today'] = met['year'] + pd.to_timedelta(met['day'], unit='D')"
   ]
  },
  {
   "cell_type": "code",
   "execution_count": null,
   "metadata": {},
   "outputs": [],
   "source": [
    "# Check if any weired values. \n",
    "grid = sns.FacetGrid(met, row ='Experiment',\n",
    "                     aspect=2, sharex=False)\n",
    "grid.map(plt.scatter, 'Clock.Today', 'mean')\n",
    "grid.set_xticklabels(rotation=45)\n",
    "grid.fig.tight_layout()"
   ]
  },
  {
   "cell_type": "markdown",
   "metadata": {},
   "source": [
    "#### Note:   \n",
    "1. The iversen 12 met has a long period of coverage.\n",
    "   Expt period: **October 2010 to July 2012.**\n",
    "   "
   ]
  },
  {
   "cell_type": "code",
   "execution_count": null,
   "metadata": {},
   "outputs": [],
   "source": [
    "met = met[(met['Clock.Today'] > '2010-06-01')\n",
    "          &(met['Clock.Today'] < '2012-08-01')]\n"
   ]
  },
  {
   "cell_type": "code",
   "execution_count": null,
   "metadata": {},
   "outputs": [],
   "source": [
    "# Verify the filter \n",
    "# Check if any weired values. \n",
    "grid = sns.FacetGrid(met, row ='Experiment',\n",
    "                     aspect=2, sharex=False)\n",
    "grid.map(plt.scatter, 'Clock.Today', 'mean')\n",
    "grid.set_xticklabels(rotation=45)\n",
    "grid.fig.tight_layout()"
   ]
  },
  {
   "cell_type": "code",
   "execution_count": null,
   "metadata": {},
   "outputs": [],
   "source": [
    "# indexing \n",
    "met.set_index('Clock.Today', inplace = True)"
   ]
  },
  {
   "cell_type": "code",
   "execution_count": null,
   "metadata": {},
   "outputs": [],
   "source": [
    "\n",
    "ThermalTimeAccum = met.loc[:, 'mean'].cumsum()\n",
    "ThermalTimeAccum.index = pd.to_datetime(ThermalTimeAccum.index)"
   ]
  },
  {
   "cell_type": "markdown",
   "metadata": {},
   "source": [
    "## Combine thermal time with cover data"
   ]
  },
  {
   "cell_type": "code",
   "execution_count": null,
   "metadata": {},
   "outputs": [],
   "source": [
    "#Reindex coverdata frame to daily values\n",
    "LIDaily = LI.reindex(ThermalTimeAccum.index)\n",
    "LIDaily.loc[:, 'AccumTT'] = ThermalTimeAccum\n",
    "# CoverDataDaily.loc[:,'AccumTT'] = ThermalTimeAccum"
   ]
  },
  {
   "cell_type": "code",
   "execution_count": null,
   "metadata": {},
   "outputs": [],
   "source": [
    "LIDaily"
   ]
  },
  {
   "cell_type": "markdown",
   "metadata": {},
   "source": [
    "## Interpolate daily values \n",
    "\n",
    "**Note**  \n",
    "The for loop below complains _ValueError: fp and xp are not of the same length._  \n",
    "\n",
    "This is probably because the LI is in a wide form \n",
    "But the thermal data is in a long form which includs two sites \n"
   ]
  },
  {
   "cell_type": "code",
   "execution_count": null,
   "metadata": {},
   "outputs": [],
   "source": [
    "# for p in LIDaily.columns:\n",
    "#     Obs = LIDaily.loc[:,p].dropna()\n",
    "#     LIDaily.loc[:,p] = np.interp(LIDaily.AccumTT, LIDaily.loc[Obs.index,'AccumTT'],Obs)"
   ]
  },
  {
   "cell_type": "markdown",
   "metadata": {},
   "source": [
    "## Process sites individually   \n",
    "\n",
    "Ashley Dene first"
   ]
  },
  {
   "cell_type": "code",
   "execution_count": null,
   "metadata": {},
   "outputs": [],
   "source": [
    "LIAD = LI.filter(regex = 'Ashley')"
   ]
  },
  {
   "cell_type": "code",
   "execution_count": null,
   "metadata": {},
   "outputs": [],
   "source": [
    "LIDailyAD = LIDaily.filter(regex = 'Ashley')"
   ]
  },
  {
   "cell_type": "code",
   "execution_count": null,
   "metadata": {},
   "outputs": [],
   "source": [
    "TTAccumAD = met.loc[met['Experiment'] == 'AshleyDene', 'mean'].cumsum()\n",
    "TTAccumAD.index = pd.to_datetime(TTAccumAD.index)"
   ]
  },
  {
   "cell_type": "code",
   "execution_count": null,
   "metadata": {},
   "outputs": [],
   "source": [
    "LIDailyAD = LIAD.reindex(TTAccumAD.index)  #Reindex coverdata frame to daily values\n",
    "LIDailyAD.loc[:,'AccumTT'] = TTAccumAD\n"
   ]
  },
  {
   "cell_type": "code",
   "execution_count": null,
   "metadata": {},
   "outputs": [],
   "source": [
    "LIDailyAD"
   ]
  },
  {
   "cell_type": "code",
   "execution_count": null,
   "metadata": {},
   "outputs": [],
   "source": [
    "for p in LIDailyAD.columns:\n",
    "    Obs = LIDailyAD.loc[:,p].dropna()\n",
    "    LIDailyAD.loc[:,p] = np.interp(LIDailyAD.AccumTT,\n",
    "                                   LIDailyAD.loc[Obs.index,'AccumTT'],Obs)"
   ]
  },
  {
   "cell_type": "code",
   "execution_count": null,
   "metadata": {},
   "outputs": [],
   "source": [
    "LIDailyAD"
   ]
  },
  {
   "cell_type": "code",
   "execution_count": null,
   "metadata": {},
   "outputs": [],
   "source": [
    "LIGroupedMeanAD = LIDailyAD.groupby(axis=1, level=['Experiment', 'SowingDate']).mean()"
   ]
  },
  {
   "cell_type": "code",
   "execution_count": null,
   "metadata": {},
   "outputs": [],
   "source": [
    "LIGroupedMeanAD.columns"
   ]
  },
  {
   "cell_type": "code",
   "execution_count": null,
   "metadata": {},
   "outputs": [],
   "source": [
    "# Graph to check the data \n",
    "LIGroupedMeanAD.loc[:,\n",
    "                  [X for X in LIGroupedMeanAD.columns if X != (   'AccumTT',     '')]].plot(figsize=(10, 6),style='o-')"
   ]
  },
  {
   "cell_type": "markdown",
   "metadata": {},
   "source": [
    "#### Notes\n",
    "\n",
    "MAYBE the starting point need to be forced to be 0\n",
    "\n",
    "## Iversen12 LI interpolate"
   ]
  },
  {
   "cell_type": "code",
   "execution_count": null,
   "metadata": {},
   "outputs": [],
   "source": [
    "LII12 = LI.filter(regex = 'Ive')\n",
    "LIDailyI12 = LIDaily.filter(regex = 'Ive')\n",
    "TTAccumI12 = met.loc[met['Experiment'] == 'Iversen12', 'mean'].cumsum()\n",
    "TTAccumI12.index = pd.to_datetime(TTAccumI12.index)\n",
    "LIDailyI12 = LII12.reindex(TTAccumI12.index)  #Reindex coverdata frame to daily values\n",
    "LIDailyI12.loc[:,'AccumTT'] = TTAccumI12\n",
    "for p in LIDailyI12.columns:\n",
    "    Obs = LIDailyI12.loc[:,p].dropna()\n",
    "    LIDailyI12.loc[:,p] = np.interp(LIDailyI12.AccumTT,\n",
    "                                   LIDailyI12.loc[Obs.index,'AccumTT'],Obs)\n",
    "LIGroupedMeanI12 = LIDailyI12.groupby(axis=1, level=['Experiment', 'SowingDate']).mean()"
   ]
  },
  {
   "cell_type": "code",
   "execution_count": null,
   "metadata": {},
   "outputs": [],
   "source": [
    "LIGroupedMeanI12.columns"
   ]
  },
  {
   "cell_type": "code",
   "execution_count": null,
   "metadata": {},
   "outputs": [],
   "source": [
    "# Graph to check the data \n",
    "LIGroupedMeanI12.loc[:,\n",
    "                  [X for X in LIGroupedMeanI12.columns if X != (   'AccumTT',     '')]].plot(figsize=(10, 6),style='o-')"
   ]
  },
  {
   "cell_type": "code",
   "execution_count": null,
   "metadata": {},
   "outputs": [],
   "source": []
  }
 ],
 "metadata": {
  "kernelspec": {
   "display_name": "Python 3",
   "language": "python",
   "name": "python3"
  },
  "language_info": {
   "codemirror_mode": {
    "name": "ipython",
    "version": 3
   },
   "file_extension": ".py",
   "mimetype": "text/x-python",
   "name": "python",
   "nbconvert_exporter": "python",
   "pygments_lexer": "ipython3",
   "version": "3.7.7"
  }
 },
 "nbformat": 4,
 "nbformat_minor": 2
}
