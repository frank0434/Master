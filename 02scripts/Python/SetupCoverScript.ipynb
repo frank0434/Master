{
 "cells": [
  {
   "cell_type": "code",
   "execution_count": 1,
   "metadata": {},
   "outputs": [],
   "source": [
    "#load packages\n",
    "import sqlite3\n",
    "import re\n",
    "import datetime\n",
    "import pandas as pd\n",
    "import numpy as np\n",
    "import matplotlib.pyplot as plt\n",
    "import seaborn as sns\n",
    "import math"
   ]
  },
  {
   "cell_type": "code",
   "execution_count": 2,
   "metadata": {},
   "outputs": [],
   "source": [
    "# Build connection with db\n",
    "con = sqlite3.connect('../../03processed-data/Richard.sqlite3')\n",
    "mycur = con.cursor() \n",
    "mycur.execute(\"SELECT name FROM sqlite_master WHERE type='table' ORDER BY name;\")\n",
    "# Read data in \n",
    "biomass = pd.read_sql('Select * from biomass',  con)\n",
    "met_AD = pd.read_sql('Select * from met_AshleyDene', con)\n",
    "met_I12 = pd.read_sql('Select * from met_Iversen12', con)"
   ]
  },
  {
   "cell_type": "code",
   "execution_count": 4,
   "metadata": {},
   "outputs": [],
   "source": [
    "LAI_Height = biomass.loc[(biomass['Seed'] == 'CS')\n",
    "                         & (biomass['Harvest.No.']!='Post'), \n",
    "                         ['Experiment', 'Clock.Today', 'SowingDate', 'Rep',\n",
    "                          'Plot', 'Rotation.No.', 'Harvest.No.', 'Height','LAImod']]\n",
    "# Plot that had 'Post' measurement should be out \n",
    "LAI_Height[(LAI_Height['Harvest.No.'] == 'Post') & (LAI_Height.LAImod==0)]\n",
    "# Add the k for all \n",
    "LAI_Height['k'] = 0.94\n",
    "# Replace the k for the summur crop in Ashley Dene\n",
    "# LAI_Height.loc[(LAI_Height['Clock.Today'] > '2011-11-30') \n",
    "#                & (LAI_Height['Clock.Today'] < '2012-03-01') \n",
    "#                & (LAI_Height['Experiment'] == 'AshleyDene'), 'k'] = 0.66\n",
    "LAI_Height['Date'] = pd.to_datetime(LAI_Height['Clock.Today']).dt.strftime('%Y %b')"
   ]
  },
  {
   "cell_type": "markdown",
   "metadata": {},
   "source": [
    "### Output LAI as the slurp input "
   ]
  },
  {
   "cell_type": "code",
   "execution_count": null,
   "metadata": {},
   "outputs": [],
   "source": [
    "SDs = ['SD' + str(SD) for SD in range(1, 11)]\n",
    "SDs\n",
    "sites = ['AshleyDene', 'Iversen12']\n",
    "for site in sites: \n",
    "    for i in SDs:\n",
    "        LAI_Height.loc[(LAI_Height['Experiment'] == site) & (LAI_Height.SowingDate == i),\n",
    "                       ['Clock.Today', 'LAImod','k']].\\\n",
    "        to_csv('../../03processed-data/CoverData/LAI' + site + i + '.csv',index = False)"
   ]
  },
  {
   "cell_type": "code",
   "execution_count": null,
   "metadata": {},
   "outputs": [],
   "source": [
    "LAI_Height['LI_frac'] = 1 - np.exp( - LAI_Height['k'] * LAI_Height['LAImod'])"
   ]
  },
  {
   "cell_type": "code",
   "execution_count": null,
   "metadata": {},
   "outputs": [],
   "source": [
    "# Select only LI column\n",
    "LI = LAI_Height.loc[:, ['Experiment', 'Clock.Today','SowingDate', \n",
    "                        'Rep', 'Plot', \n",
    "                        'LI_frac']]\n",
    "# print_full(LI)\n",
    "# remove the rows that have 0S - Likely to be wrong 0s\n",
    "LI = LI[LI['LI_frac'] != 0.00]\n",
    "LI = LI.pivot_table(index = 'Clock.Today', \n",
    "                    columns=['Experiment', 'SowingDate', \n",
    "                             'Rep', 'Plot'],\n",
    "                    values = 'LI_frac')\n",
    "\n",
    "# Change the index to datetime tyep\n",
    "LI.index = pd.to_datetime(LI.index)\n",
    "# Rename the index name \n",
    "LI.index.name = 'Clock.Today'\n",
    "# Normalise the datetime to midnight \n",
    "LI.index = LI.index.normalize()\n"
   ]
  },
  {
   "cell_type": "code",
   "execution_count": null,
   "metadata": {},
   "outputs": [],
   "source": [
    "LIGroupedMean = LI.groupby(axis=1, level=['Experiment', 'SowingDate']).mean()"
   ]
  },
  {
   "cell_type": "code",
   "execution_count": null,
   "metadata": {},
   "outputs": [],
   "source": [
    "# Met data to calculate thermal time"
   ]
  },
  {
   "cell_type": "code",
   "execution_count": null,
   "metadata": {},
   "outputs": [],
   "source": [
    "met_AD = met_AD.loc[:, ['year','day', 'maxt', 'mint','mean']]\n",
    "met_AD['Experiment'] = 'AshleyDene'\n",
    "met_I12 = met_I12.loc[(met_I12['year'] >= 2010)                       \n",
    "                      & (met_I12['year'] < 2013), ['year','day', 'maxt', 'mint','mean']]\n",
    "met_I12['Experiment'] = 'Iversen12'\n",
    "met = pd.concat([met_AD, met_I12], ignore_index=True)\n",
    "# Change 4 digits year to the first date of the year\n",
    "met['year'] = [str(year) + '-01-01' for year in met['year']]\n",
    "met['year'] = pd.to_datetime(met['year'])\n",
    "# Change the day to a delta days and add back to the year \n",
    "met['Clock.Today'] = met['year'] + pd.to_timedelta(met['day'], unit='D')\n",
    "met = met[(met['Clock.Today'] > '2010-06-01')\n",
    "          &(met['Clock.Today'] < '2012-08-01')]\n",
    "# indexing \n",
    "met.set_index('Clock.Today', inplace = True)\n",
    "# Try 2 sites the same time \n",
    "ThermalTimeAccum = met.loc[:, 'mean'].cumsum()\n",
    "ThermalTimeAccum.index = pd.to_datetime(ThermalTimeAccum.index)\n",
    "#Reindex coverdata frame to daily values\n",
    "LIDaily = LI.reindex(ThermalTimeAccum.index)\n",
    "LIDaily.loc[:, 'AccumTT'] = ThermalTimeAccum\n",
    "# CoverDataDaily.loc[:,'AccumTT'] = ThermalTimeAccum"
   ]
  },
  {
   "cell_type": "code",
   "execution_count": null,
   "metadata": {},
   "outputs": [],
   "source": [
    "sowingdates = pd.read_sql('Select * from SowingDates',  con)\n",
    "sowingdates.AD = pd.to_datetime(sowingdates.AD)\n",
    "sowingdates.I12 = pd.to_datetime(sowingdates.I12)\n",
    "# set index and rename columns \n",
    "sowingdates.set_index('SD', inplace=True)\n",
    "sowingdates.columns = ['AshleyDene', 'Iversen12']"
   ]
  },
  {
   "cell_type": "code",
   "execution_count": null,
   "metadata": {},
   "outputs": [],
   "source": [
    "LIAD = LI.filter(regex = 'Ashley')\n",
    "#Reindex coverdata frame to daily values\n",
    "TTAccumAD = met.loc[(met['Experiment'] == 'AshleyDene')\n",
    "                    & (met.index > '2010-10-20'), 'mean'].cumsum()\n",
    "TTAccumAD.index = pd.to_datetime(TTAccumAD.index)\n",
    "\n",
    "LIDailyAD = LIAD.reindex(TTAccumAD.index)\n",
    "LIDailyAD.loc[:, 'AccumTT'] = TTAccumAD\n",
    "\n",
    "for sd in sowingdates.index:\n",
    "    # Select the date for correpond sowing date\n",
    "    date0 = sowingdates.at[sd, 'AshleyDene']\n",
    "    # A slicer\n",
    "    idx = pd.IndexSlice\n",
    "    # Replace the row values with 0s\n",
    "    LIDailyAD.loc[LIDailyAD.index <= date0, idx[:,sd]] = float(0.001)\n",
    "    # Verification \n",
    "    df = LIDailyAD.loc[LIDailyAD.index == date0, idx[:,sd]]\n",
    "for p in LIDailyAD.columns:\n",
    "    Obs = LIDailyAD.loc[:,p].dropna()\n",
    "    LIDailyAD.loc[:,p] = np.interp(LIDailyAD.AccumTT,\n",
    "                                   LIDailyAD.loc[Obs.index,'AccumTT'],Obs)"
   ]
  },
  {
   "cell_type": "code",
   "execution_count": null,
   "metadata": {},
   "outputs": [],
   "source": [
    "LIGroupedMeanADForced = LIDailyAD.groupby(axis=1, level=['Experiment', 'SowingDate']).mean()"
   ]
  },
  {
   "cell_type": "code",
   "execution_count": null,
   "metadata": {},
   "outputs": [],
   "source": [
    "LII12 = LI.filter(regex = 'Iver')\n",
    "#Reindex coverdata frame to daily values\n",
    "TTAccumI12 = met.loc[(met['Experiment'] == 'Iversen12')\n",
    "                    & (met.index > '2010-10-03'), 'mean'].cumsum()\n",
    "TTAccumI12.index = pd.to_datetime(TTAccumI12.index)\n",
    "\n",
    "LIDailyI12 = LII12.reindex(TTAccumI12.index)\n",
    "LIDailyI12.loc[:, 'AccumTT'] = TTAccumI12\n",
    "for sd in sowingdates.index:\n",
    "    # Select the date for correpond sowing date\n",
    "    date0 = sowingdates.at[sd, 'Iversen12']\n",
    "    # A slicer\n",
    "    idx = pd.IndexSlice\n",
    "    # Replace the row values with 0s\n",
    "    LIDailyI12.loc[LIDailyI12.index <= date0, idx[:,sd]] = float(0.001)\n",
    "#     # Verification \n",
    "    df = LIDailyI12.loc[LIDailyI12.index == date0, idx[:,sd]]\n",
    "#     print(df)\n",
    "for p in LIDailyI12.columns:\n",
    "    Obs = LIDailyI12.loc[:,p].dropna()\n",
    "    LIDailyI12.loc[:,p] = np.interp(LIDailyI12.AccumTT,\n",
    "                                   LIDailyI12.loc[Obs.index,'AccumTT'],Obs)\n",
    "LIGroupedMeanI12Forced = LIDailyI12.groupby(axis=1, level=['Experiment', 'SowingDate']).mean()"
   ]
  },
  {
   "cell_type": "code",
   "execution_count": null,
   "metadata": {},
   "outputs": [],
   "source": [
    "CoverDF = LIGroupedMeanADForced.drop('AccumTT', axis=1, level=0).stack([0,1]).reset_index()\n",
    "CoverDFI12 = LIGroupedMeanI12Forced.drop('AccumTT', axis=1, level=0).stack([0,1]).reset_index()\n",
    "CoverDF.columns = ['Date', 'Experiment', 'SowingDate', 'LightInterception']\n",
    "CoverDFI12.columns = ['Date', 'Experiment', 'SowingDate', 'LightInterception']\n",
    "CoverDF = pd.concat([CoverDF,CoverDFI12], axis=0)"
   ]
  },
  {
   "cell_type": "code",
   "execution_count": null,
   "metadata": {},
   "outputs": [],
   "source": [
    "# Add the k for all \n",
    "CoverDF['k'] = 0.94\n",
    "# Replace the k for the summur crop in Ashley Dene\n",
    "# CoverDF.loc[(CoverDF['Date'] > '2011-11-30') \n",
    "#                & (CoverDF['Date'] < '2012-03-01') \n",
    "#                & (CoverDF['Experiment'] == 'AshleyDene'), 'k'] = 0.66"
   ]
  },
  {
   "cell_type": "code",
   "execution_count": null,
   "metadata": {},
   "outputs": [],
   "source": [
    "# Output the coverData with k values \n",
    "SDs = ['SD' + str(SD) for SD in range(1, 11)]\n",
    "SDs\n",
    "for i in sites:\n",
    "    for j in SDs:\n",
    "        CoverDF.loc[(CoverDF['SowingDate'] == j)\n",
    "                    & (CoverDF['Experiment'] == i),\n",
    "                    ['Date', 'LightInterception','k']]. \\\n",
    "        to_csv('../../03processed-data/CoverData/CoverData' + i + j + '.csv', index = False)"
   ]
  },
  {
   "cell_type": "markdown",
   "metadata": {},
   "source": [
    "CoverDF"
   ]
  }
 ],
 "metadata": {
  "jupytext": {
   "formats": "ipynb,py:light",
   "text_representation": {
    "extension": ".py",
    "format_name": "light",
    "format_version": "1.5",
    "jupytext_version": "1.4.2"
   }
  },
  "kernelspec": {
   "display_name": "Python 3",
   "language": "python",
   "name": "python3"
  },
  "language_info": {
   "codemirror_mode": {
    "name": "ipython",
    "version": 3
   },
   "file_extension": ".py",
   "mimetype": "text/x-python",
   "name": "python",
   "nbconvert_exporter": "python",
   "pygments_lexer": "ipython3",
   "version": "3.7.7"
  }
 },
 "nbformat": 4,
 "nbformat_minor": 2
}
