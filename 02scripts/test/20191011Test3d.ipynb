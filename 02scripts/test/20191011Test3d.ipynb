{
 "cells": [
  {
   "cell_type": "code",
   "execution_count": null,
   "metadata": {},
   "outputs": [],
   "source": [
    "import sqlite3\n",
    "import datetime\n",
    "import pandas as pd\n",
    "import numpy as np\n",
    "import matplotlib.pyplot as plt\n",
    "import statsmodels.api as sm\n",
    "import seaborn as sns\n",
    "import matplotlib.patheffects as path_effects\n",
    "from mpl_toolkits.mplot3d import Axes3D\n",
    "\n",
    "%matplotlib inline"
   ]
  },
  {
   "cell_type": "code",
   "execution_count": null,
   "metadata": {},
   "outputs": [],
   "source": [
    "con = sqlite3.connect('G:/Master/03processed-data/Richard.sqlite3')"
   ]
  },
  {
   "cell_type": "code",
   "execution_count": null,
   "metadata": {},
   "outputs": [],
   "source": [
    "soilwater = pd.read_sql(\"SELECT * FROM SoilWater\",\n",
    "                       con)"
   ]
  },
  {
   "cell_type": "code",
   "execution_count": null,
   "metadata": {},
   "outputs": [],
   "source": [
    "soilwater_AD = soilwater.loc[soilwater['Site']==\"AshleyDene\"]\n",
    "soilwater_AD\n",
    "# soilwater_AD.set_index(['Sowing.Date','Rep', 'DAS'], inplace = True)\n",
    "pattern = '|'.join(['DAS','Rep','SWC'])\n",
    "pattern\n",
    "\n",
    "SD1 = soilwater_AD.loc[soilwater_AD['Sowing.Date'] == 'SD1'].filter(regex = pattern)\n",
    "# .drop(columns = ['SWC.2.3.m..mm.'])"
   ]
  },
  {
   "cell_type": "code",
   "execution_count": null,
   "metadata": {},
   "outputs": [],
   "source": [
    "SD1.dtypes"
   ]
  },
  {
   "cell_type": "code",
   "execution_count": null,
   "metadata": {},
   "outputs": [],
   "source": [
    "SD1['Rep']=SD1['Rep'].astype('category')\n",
    "SD1['DAS']=SD1['DAS'].astype('int')"
   ]
  },
  {
   "cell_type": "code",
   "execution_count": null,
   "metadata": {},
   "outputs": [],
   "source": [
    "for column in SD1.columns[2:]:\n",
    "    df = SD1.loc[:, [\"Rep\",\"DAS\", column]]\n",
    "#     print(df)\n",
    "    fig = plt.figure(figsize=(12,7))\n",
    "    ax = fig.gca(projection='3d')\n",
    "\n",
    "    scatter = ax.scatter3D(df['DAS'],df['Rep'],df[column],c = df[column], marker='o', cmap='viridis')\n",
    "    ax.set_ylim3d(-1, 5)\n",
    "    ax.plot_trisurf(df['DAS'],df['Rep'],df[column],  cmap='viridis', linewidth=0.2)\n",
    "    ax.set_ylim3d(-1, 5)\n",
    "\n",
    "    fig.colorbar( scatter, shrink=0.5, aspect=5)\n",
    "\n",
    "    ax.set_xlabel('DAS')\n",
    "    ax.set_ylabel('Rep')\n",
    "    ax.set_zlabel(column)\n",
    "\n",
    "    ax.view_init(0, 270)\n",
    "plt.tight_layout\n",
    "    \n"
   ]
  },
  {
   "cell_type": "code",
   "execution_count": null,
   "metadata": {},
   "outputs": [],
   "source": [
    "for column in SD1.columns[2:]:\n",
    "    df = SD1.loc[:, [\"Rep\",\"DAS\", column]]\n",
    "#     print(df)\n",
    "    fig = plt.figure(figsize=(12,7))\n",
    "    ax = fig.gca(projection='3d')\n",
    "\n",
    "    scatter = ax.scatter3D(df['DAS'],df['Rep'],df[column],c = df[column], marker='o', cmap='viridis')\n",
    "    ax.set_ylim3d(-1, 5)\n",
    "    ax.plot_trisurf(df['DAS'],df['Rep'],df[column],  cmap='viridis', linewidth=0.2)\n",
    "    ax.set_ylim3d(-1, 5)\n",
    "\n",
    "    fig.colorbar( scatter, shrink=0.5, aspect=5)\n",
    "\n",
    "    ax.set_xlabel('DAS')\n",
    "    ax.set_ylabel('Rep')\n",
    "    ax.set_zlabel(column)\n",
    "\n",
    "    ax.view_init(0, 180)\n",
    "plt.tight_layout"
   ]
  },
  {
   "cell_type": "code",
   "execution_count": null,
   "metadata": {},
   "outputs": [],
   "source": [
    "# df = SD1.loc[:, 'SWC.0.1']\n",
    "# df.dtypes\n",
    "# df.columns=[\"Rep\",\"DAS\",\"SWC\"]\n",
    "# df.dtypes\n",
    "\n",
    "# # pd.Categorical(df['Rep'])\n",
    "# # df['DAS']=df['DAS'].cat.codes"
   ]
  },
  {
   "cell_type": "code",
   "execution_count": null,
   "metadata": {},
   "outputs": [],
   "source": [
    "# from matplotlib.collections import PolyCollection\n",
    "# from matplotlib import colors as mcolors\n",
    "\n",
    "# fig = plt.figure(figsize=plt.figaspect(0.5))\n",
    "# ax = fig.add_subplot(1,2,1, projection='3d')\n",
    "#===============\n",
    "#  First subplot\n",
    "#===============\n",
    "# # set up the axes for the first plot\n",
    "# fig = plt.figure(figsize=(12,7))\n",
    "# ax = fig.gca(projection='3d')\n",
    "\n",
    "# scatter = ax.scatter3D(df['Date'],df['Rep'],df['SWC'],c = df['SWC'], marker='o', cmap='viridis')\n",
    "# ax.set_ylim3d(-1, 5)\n",
    "# ax.plot_trisurf(df['Date'],df['Rep'],df['SWC'],  cmap='viridis', linewidth=0.2)\n",
    "# ax.set_ylim3d(-1, 5)\n",
    "\n",
    "# fig.colorbar( scatter, shrink=0.5, aspect=5)\n",
    "\n",
    "# ax.set_xlabel('Date')\n",
    "# ax.set_ylabel('Rep')\n",
    "# ax.set_zlabel('SWC in Layer 1 (mm)')\n",
    "\n",
    "# ax.view_init(0, 270)\n",
    "\n",
    "\n",
    "\n",
    "\n",
    "\n"
   ]
  },
  {
   "cell_type": "code",
   "execution_count": null,
   "metadata": {},
   "outputs": [],
   "source": [
    "# from matplotlib.collections import PolyCollection\n",
    "# import matplotlib.pyplot as plt\n",
    "# from matplotlib import colors as mcolors\n",
    "# import numpy as np\n",
    "\n",
    "\n",
    "# fig = plt.figure()\n",
    "# ax = fig.gca(projection='3d')\n",
    "\n",
    "\n",
    "# def cc(arg):\n",
    "#     return mcolors.to_rgba(arg, alpha=0.6)\n",
    "\n",
    "# xs = df_rep1['DAS'].to_numpy()\n",
    "# verts = []\n",
    "# zs = df_rep1['Rep'].to_numpy()\n",
    "# for z in zs:\n",
    "#     ys = df_rep1['SWC']\n",
    "    \n",
    "#     verts.append(list(zip(xs, ys)))\n",
    "\n",
    "# poly = PolyCollection(verts, facecolors=[cc('r'), cc('g'), cc('b'),\n",
    "#                                          cc('y')])\n",
    "# poly.set_alpha(0.7)\n",
    "# ax.add_collection3d(poly, zs=zs, zdir='y')\n",
    "\n",
    "# ax.set_xlabel('X')\n",
    "# ax.set_xlim3d(0, 10)\n",
    "# ax.set_ylabel('Y')\n",
    "# ax.set_ylim3d(-1, 4)\n",
    "# ax.set_zlabel('Z')\n",
    "# ax.set_zlim3d(0, 1)\n",
    "# ax.view_init(0, 270)"
   ]
  },
  {
   "cell_type": "code",
   "execution_count": null,
   "metadata": {},
   "outputs": [],
   "source": [
    "# np.arange(0, 10, 0.4)\n",
    "# df_rep1['SWC']\n",
    "# ef f(x, y):                        \n",
    "#     return np.sin(2*x) * np.cos(2*y)\n",
    "\n",
    "# # data for the surface\n",
    "# x = np.linspace(-2, 2, 100)\n",
    "# X, Y = np.meshgrid(x, x)\n",
    "# Z = f(X, Y)\n",
    "\n",
    "# # data for the scatter\n",
    "# xx = 4*np.random.rand(1000) - 2\n",
    "# yy = 4*np.random.rand(1000) - 2\n",
    "# zz = f(xx,yy)"
   ]
  },
  {
   "cell_type": "code",
   "execution_count": null,
   "metadata": {},
   "outputs": [],
   "source": [
    "# df_rep1 = df[df['Rep'] == '1']\n",
    "# for i,j,k in zip(df_rep1['DAS'], df_rep1['Rep'], df_rep1['SWC']):\n",
    "#     print(i, j,k)\n",
    "# np.arange(0, 10, 0.4)"
   ]
  }
 ],
 "metadata": {
  "jupytext": {
   "formats": "ipynb,Rmd"
  },
  "kernelspec": {
   "display_name": "Python 3",
   "language": "python",
   "name": "python3"
  },
  "language_info": {
   "codemirror_mode": {
    "name": "ipython",
    "version": 3
   },
   "file_extension": ".py",
   "mimetype": "text/x-python",
   "name": "python",
   "nbconvert_exporter": "python",
   "pygments_lexer": "ipython3",
   "version": "3.7.3"
  }
 },
 "nbformat": 4,
 "nbformat_minor": 2
}
