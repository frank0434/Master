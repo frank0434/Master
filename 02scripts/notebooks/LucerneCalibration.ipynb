{
 "cells": [
  {
   "cell_type": "markdown",
   "metadata": {},
   "source": [
    "# Aim\n",
    "\n",
    "Mimic Hamish's note book for potato\n",
    "\n",
    "Progressing:\n",
    "\n",
    "    1. modified report script to have 3 reports: initial, daily and harvest.\n",
    "        Issue: predict vs observed table has no values produced. \n",
    "    2. version cotrol the test apsimx file \n",
    "    3. add longt to the met file \n",
    " \n",
    " \n",
    "To do: \n",
    "\n",
    "    1. copy and paste the node to individual expt \n",
    "    2. run all sims\n",
    "    3. run hamish's code \n",
    "    "
   ]
  },
  {
   "cell_type": "code",
   "execution_count": null,
   "metadata": {},
   "outputs": [],
   "source": [
    "import sqlite3\n",
    "import datetime\n",
    "import pandas as pd\n",
    "import numpy as np\n",
    "import re\n",
    "import matplotlib.pyplot as plt\n",
    "import statsmodels.api as sm\n",
    "# import MathsUtilities as MUte\n",
    "import matplotlib.patheffects as path_effects\n",
    "# import GraphHelpers as GH # possible customised py script? \n",
    "%matplotlib inline"
   ]
  },
  {
   "cell_type": "markdown",
   "metadata": {},
   "source": [
    "### Link to APSIM output Data"
   ]
  },
  {
   "cell_type": "code",
   "execution_count": null,
   "metadata": {},
   "outputs": [],
   "source": [
    "# Build the connection via sqlite3\n",
    "con = sqlite3.connect(r'C:/Data/Master/01raw-data/ApsimxFiles/PlotByPlot.db')"
   ]
  },
  {
   "cell_type": "code",
   "execution_count": null,
   "metadata": {},
   "outputs": [],
   "source": [
    "# Define function to grab all table names inside the db.\n",
    "# Might be useful for future if want to store table names into a vector. \n",
    "def sql_fetch(con):\n",
    "    \n",
    "    # Define a cursor\n",
    "    cursorObj = con.cursor()\n",
    "    # Use the cursor to execute SQL command\n",
    "    cursorObj.execute('SELECT name from sqlite_master where type= \"table\"')\n",
    "    # Return feedback\n",
    "    return(cursorObj.fetchall())\n",
    "\n",
    "# Call the function \n",
    "tabs = sql_fetch(con)"
   ]
  },
  {
   "cell_type": "code",
   "execution_count": null,
   "metadata": {},
   "outputs": [],
   "source": [
    "tabs"
   ]
  },
  {
   "cell_type": "code",
   "execution_count": null,
   "metadata": {},
   "outputs": [],
   "source": [
    "# The table names is a list of tuples \n",
    "# Convert the tuples to strings\n",
    "\n",
    "# Use List Comprehensions \n",
    "# Follow: new_list = [expression(i) for i in old_list if filter(i)]    \n",
    "new_tabs = [ ''.join(i) for i in tabs ]"
   ]
  },
  {
   "cell_type": "code",
   "execution_count": null,
   "metadata": {},
   "outputs": [],
   "source": [
    "new_tabs\n"
   ]
  },
  {
   "cell_type": "markdown",
   "metadata": {},
   "source": [
    "### Create a dictionary for storing all tables \n",
    "Follow https://stackoverflow.com/questions/58119448/how-to-store-a-dataframe-in-a-dictionary\n",
    "\n",
    "Dictionary comprehension "
   ]
  },
  {
   "cell_type": "code",
   "execution_count": null,
   "metadata": {},
   "outputs": [],
   "source": [
    "# Read in tables \n",
    "dict = {i : pd.read_sql(\"Select * from \" + i, con, parse_dates=True) for i in new_tabs}"
   ]
  },
  {
   "cell_type": "code",
   "execution_count": null,
   "metadata": {},
   "outputs": [],
   "source": [
    "# Inspect column names in the tables\n",
    "for k, v in dict.items():\n",
    "    print(k, v.columns) "
   ]
  },
  {
   "cell_type": "code",
   "execution_count": null,
   "metadata": {},
   "outputs": [],
   "source": [
    "dict.keys()\n",
    "l_tab = ['Report', 'Observed', 'PredictedObserved']\n",
    "for i in l_tab:\n",
    "    \n",
    "    dict[i]['Clock.Today'] = pd.to_datetime(dict[i]['Clock.Today'])\n"
   ]
  },
  {
   "cell_type": "markdown",
   "metadata": {},
   "source": [
    "_Note_  \n",
    "`_Simulation` and `_Checkponts` use `ID`    \n",
    "`_Units` does not have a `ID` or `SimulationID`\n"
   ]
  },
  {
   "cell_type": "markdown",
   "metadata": {},
   "source": [
    "### Read in tables"
   ]
  },
  {
   "cell_type": "code",
   "execution_count": null,
   "metadata": {},
   "outputs": [],
   "source": [
    "InitialConditions = dict['_InitialConditions']\n",
    "Factors = dict['_Factors'].set_index('SimulationID').sort_index()\n",
    "Predict = dict['Report'].set_index('SimulationID').sort_index()\n",
    "Units = dict['_Units']\n",
    "Observed = dict['Observed'].set_index('SimulationID').sort_index()\n",
    "PredictedObserved = dict['PredictedObserved'].set_index('SimulationID')\n",
    "Simulations = dict['_Simulations'].set_index('ID').sort_index()"
   ]
  },
  {
   "cell_type": "code",
   "execution_count": null,
   "metadata": {},
   "outputs": [],
   "source": [
    "PredictedObserved"
   ]
  },
  {
   "cell_type": "markdown",
   "metadata": {},
   "source": [
    "### Inspect each table "
   ]
  },
  {
   "cell_type": "code",
   "execution_count": null,
   "metadata": {},
   "outputs": [],
   "source": [
    "Simulations"
   ]
  },
  {
   "cell_type": "code",
   "execution_count": null,
   "metadata": {},
   "outputs": [],
   "source": [
    "Factors.drop(columns = 'CheckpointID', inplace=True)"
   ]
  },
  {
   "cell_type": "code",
   "execution_count": null,
   "metadata": {},
   "outputs": [],
   "source": [
    "# Predict.drop(columns = 'CheckpointID', inplace=True)\n",
    "Predict"
   ]
  },
  {
   "cell_type": "code",
   "execution_count": null,
   "metadata": {},
   "outputs": [],
   "source": [
    "Observed.drop(columns = 'CheckpointID', inplace=True)\n",
    "Observed.head()"
   ]
  },
  {
   "cell_type": "code",
   "execution_count": null,
   "metadata": {},
   "outputs": [],
   "source": [
    "var_predict = Units['ColumnHeading'].tolist()\n",
    "var_units = Units['Units'].tolist()"
   ]
  },
  {
   "cell_type": "code",
   "execution_count": null,
   "metadata": {},
   "outputs": [],
   "source": [
    "# Attempt to have regex to search SW columns,\n",
    "# Not necessary any more since the filter has built in regex feature \n",
    "# test = re.search(\"SW.+\\\\)\", str(Predict.columns.tolist()))\n",
    "# var_sw = test.group(0)"
   ]
  },
  {
   "cell_type": "markdown",
   "metadata": {},
   "source": [
    "### Subset the predict df to match observed df"
   ]
  },
  {
   "cell_type": "code",
   "execution_count": null,
   "metadata": {},
   "outputs": [],
   "source": [
    "Predict_sub = Predict[Observed.columns]"
   ]
  },
  {
   "cell_type": "code",
   "execution_count": null,
   "metadata": {},
   "outputs": [],
   "source": [
    "Predict_sub.dtypes"
   ]
  },
  {
   "cell_type": "code",
   "execution_count": null,
   "metadata": {},
   "outputs": [],
   "source": [
    "# Change date to date\n",
    "Predict_sub[\"Clock.Today\"] = pd.to_datetime(Predict_sub[\"Clock.Today\"])\n",
    "Observed[\"Clock.Today\"] = pd.to_datetime(Observed[\"Clock.Today\"])"
   ]
  },
  {
   "cell_type": "code",
   "execution_count": null,
   "metadata": {},
   "outputs": [],
   "source": [
    "Predict_sub.sort_values('Clock.Today', inplace=True)"
   ]
  },
  {
   "cell_type": "code",
   "execution_count": null,
   "metadata": {},
   "outputs": [],
   "source": [
    "# Grab all sw columns to a vector for iteration\n",
    "var_sw = Predict_sub.filter(regex='SW').columns\n",
    "# for i in var_sw:\n",
    "#     print(i)\n",
    "var_sw_obs = Observed.filter(regex = 'SW').columns\n",
    "# for i in var_sw_obs:\n",
    "#     print(i)"
   ]
  },
  {
   "cell_type": "markdown",
   "metadata": {},
   "source": [
    "### Visul checking "
   ]
  },
  {
   "cell_type": "code",
   "execution_count": null,
   "metadata": {},
   "outputs": [],
   "source": [
    "# How many rows for subplot\n",
    "nrows = round(len(var_sw)/2)"
   ]
  },
  {
   "cell_type": "code",
   "execution_count": null,
   "metadata": {},
   "outputs": [],
   "source": [
    "# Initial the figure size\n",
    "graph = plt.figure(figsize=(18,50))\n",
    "\n",
    "# Initial the active plot position \n",
    "pos = 1 \n",
    "\n",
    "# Iterate the variables\n",
    "for i in var_sw:\n",
    "    # Start the subplot\n",
    "    ax = graph.add_subplot(nrows, 2, pos)\n",
    "    # Iterate the sowing date\n",
    "    for j in Predict_sub.index.drop_duplicates():\n",
    "        # Subset the prediction values\n",
    "        DF = Predict_sub.loc[j, i]\n",
    "        # Subset the observed values \n",
    "        DF_obs = Observed.loc[j, i]\n",
    "        # Grab the x axis date\n",
    "        date = Predict_sub.loc[j, \"Clock.Today\"]    \n",
    "        date_obs = Observed.loc[j, \"Clock.Today\"]\n",
    "        # Provide a title\n",
    "        plt.title(i)\n",
    "        # Plot out the line for predicted values \n",
    "        plt.plot(date, DF)\n",
    "        # Add the scatter for observed values \n",
    "        plt.scatter(date_obs, DF_obs)\n",
    "        # Turn the axis tick label 90 degrees \n",
    "        _=plt.xticks(rotation=90)    \n",
    "        # No overlapping \n",
    "        plt.tight_layout()\n",
    "    # Increment one after each plot\n",
    "    pos += 1\n",
    "    "
   ]
  },
  {
   "cell_type": "markdown",
   "metadata": {},
   "source": [
    "### Check the residules "
   ]
  },
  {
   "cell_type": "code",
   "execution_count": null,
   "metadata": {},
   "outputs": [],
   "source": [
    "residules = PredictedObserved.filter(regex= r'(Clock|Pred-Obs)')\n",
    "residules\n"
   ]
  },
  {
   "cell_type": "code",
   "execution_count": null,
   "metadata": {},
   "outputs": [],
   "source": [
    "# plt.plot(residules['Clock.Today'], residules['Pred-Obs.SWC'])\n",
    "df = residules.loc[residules.index == 1,['Clock.Today', 'Pred-Obs.SWC']]\n",
    "plt.scatter(df['Clock.Today'], df['Pred-Obs.SWC'], )\n"
   ]
  },
  {
   "cell_type": "code",
   "execution_count": null,
   "metadata": {},
   "outputs": [],
   "source": [
    "# cols for the residules df\n",
    "var_residuels = residules.columns\n",
    "nrows = round(len(var_residuels)/2)\n",
    "graph = plt.figure(figsize = (18, 50))\n",
    "\n",
    "pos = 1\n",
    "for i in var_residuels:\n",
    "    ax = graph.add_subplot(nrows, 2, pos)\n",
    "    for j in residules.index.drop_duplicates():\n",
    "        DF = residules.loc[residules.index == j, ['Clock.Today', i]]\n",
    "        \n",
    "        plt.title(i)\n",
    "        plt.plot(DF['Clock.Today'], DF[i])        \n",
    "        plt.tight_layout()\n",
    "    pos += 1\n",
    "        "
   ]
  },
  {
   "cell_type": "code",
   "execution_count": null,
   "metadata": {},
   "outputs": [],
   "source": [
    "Predict_sub.index.drop_duplicates()[0]"
   ]
  },
  {
   "cell_type": "code",
   "execution_count": null,
   "metadata": {},
   "outputs": [],
   "source": [
    "Observed"
   ]
  },
  {
   "cell_type": "code",
   "execution_count": null,
   "metadata": {},
   "outputs": [],
   "source": [
    "AllColors = ['black',\n",
    " 'grey',\n",
    " 'lightgrey',\n",
    " 'maroon',\n",
    " 'indianred',\n",
    " 'red',\n",
    "'salmon',\n",
    " 'darksalmon',\n",
    " 'lightsalmon',\n",
    " 'saddlebrown',\n",
    " 'peru',\n",
    " 'darkorange',\n",
    " 'navajowhite',\n",
    "             'wheat',\n",
    " 'goldenrod',\n",
    " 'gold',\n",
    " 'darkkhaki',\n",
    " 'olive',\n",
    " 'yellow',\n",
    " 'yellowgreen',\n",
    " 'darkolivegreen',\n",
    " 'darkseagreen',\n",
    " 'limegreen',\n",
    " 'lime',\n",
    " 'springgreen',\n",
    " 'mediumspringgreen',\n",
    " 'lightseagreen',\n",
    " 'darkslategray',\n",
    " 'darkcyan',\n",
    "             'deepskyblue',\n",
    " 'dodgerblue',\n",
    " 'slategray',\n",
    " 'lightsteelblue',\n",
    " 'royalblue',\n",
    " 'navy',\n",
    " 'darkslateblue',\n",
    " 'mediumpurple',\n",
    " 'rebeccapurple',\n",
    " 'darkorchid',\n",
    " 'violet',\n",
    " 'purple',\n",
    "             'mediumvioletred',\n",
    " 'crimson',\n",
    " 'pink']\n",
    "AllColors.sort()"
   ]
  },
  {
   "cell_type": "markdown",
   "metadata": {},
   "source": [
    "### Read in the Report generated on the Sowing Event"
   ]
  },
  {
   "cell_type": "code",
   "execution_count": null,
   "metadata": {},
   "outputs": [],
   "source": [
    "InitialReport = pd.read_sql(\"Select * from InitialReport\",\n",
    "                        con)\n",
    "InitialReport.loc[:,'SimulationName'] = [Simulations.loc[InitialReport.loc[x,'SimulationID'],'Name'] for x in InitialReport.index]\n",
    "InitialReport.drop(['CheckpointID','Zone','Nitrogen','01','1','Field_','_','Water','Radiation','PlantDensity'],axis=1,inplace=True)\n",
    "InitialReport.set_index('SimulationID',inplace=True)\n",
    "InitialReport.loc[:,'Location'] = [extractLocation(x) for x in InitialReport.loc[:,'Weather.FileName']]\n",
    "InitialReport.loc[:,'FileName'] = [extractfileName(InitialReport.loc[x,'Weather.FileName']) for x in InitialReport.index]\n",
    "InitialReport.loc[:,'Country'] = [LocList.loc[x,'country'] for x in InitialReport.loc[:,'FileName']]\n",
    "InitialReport.loc[:,'Loc'] = [LocList.loc[x,'loc'] for x in InitialReport.loc[:,'FileName']]\n",
    "InitialReport.loc[:,'Country Loc'] = [InitialReport.loc[x,'Country'] + ' ' + InitialReport.loc[x,'Loc'] for x in InitialReport.index] "
   ]
  },
  {
   "cell_type": "code",
   "execution_count": null,
   "metadata": {},
   "outputs": [],
   "source": [
    "DailyReport = pd.read_sql(\"Select * from DailyReport\",\n",
    "                        con)\n",
    "DailyReport.loc[:,'SimulationName'] = [Simulations.loc[DailyReport.loc[x,'SimulationID'],'Name'] for x in DailyReport.index]\n",
    "DailyReport.drop(['CheckpointID','Zone','Nitrogen','01','1','Field_','_','Water','Radiation','PlantDensity'],axis=1,inplace=True)\n",
    "DailyReport.set_index('SimulationID',inplace=True)"
   ]
  },
  {
   "cell_type": "code",
   "execution_count": null,
   "metadata": {},
   "outputs": [],
   "source": [
    "DailyPreObs = pd.read_sql(\"Select * from TimeSeriesData\",\n",
    "                        con)\n",
    "DailyPreObs.loc[:,'SimulationName'] = [Simulations.loc[DailyPreObs.loc[x,'SimulationID'],'Name'] for x in DailyPreObs.index]\n",
    "DailyPreObs.set_index('SimulationID',inplace=True)\n",
    "DailyPreObs.drop_duplicates(inplace=True)"
   ]
  },
  {
   "cell_type": "code",
   "execution_count": null,
   "metadata": {},
   "outputs": [],
   "source": [
    "HarvestReport = pd.read_sql(\"Select * from HarvestReport\",\n",
    "                        con)\n",
    "HarvestReport.loc[:,'SimulationName'] = [Simulations.loc[HarvestReport.loc[x,'SimulationID'],'Name'] for x in HarvestReport.index]\n",
    "HarvestReport.drop(['CheckpointID','Zone','Nitrogen','01','1','Field_','_','Water','Radiation','PlantDensity'],axis=1,inplace=True)\n",
    "HarvestReport.loc[:,'PlantPopn'] = 1/((HarvestReport.loc[:,'RowWidth']/1000)* (HarvestReport.loc[:,'InterRowPlantSpace']/1000))\n",
    "HarvestReport.loc[:,'StemPopn'] = HarvestReport.loc[:,'StemPerTuber'] *  HarvestReport.loc[:,'PlantPopn']\n",
    "HarvestReport.loc[:,'Location'] = [extractLocation(x) for x in HarvestReport.loc[:,'Weather.FileName']]\n",
    "HarvestReport.set_index('SimulationID',inplace=True)\n",
    "HarvestReport.loc[:,'FileName'] = [extractfileName(HarvestReport.loc[x,'Weather.FileName']) for x in HarvestReport.index]\n",
    "HarvestReport.loc[:,'Country'] = [LocList.loc[x,'country'] for x in HarvestReport.loc[:,'FileName']]\n",
    "HarvestReport.loc[:,'Loc'] = [LocList.loc[x,'loc'] for x in HarvestReport.loc[:,'FileName']]\n",
    "HarvestReport.loc[:,'Country Loc'] = [HarvestReport.loc[x,'Country'] + ' ' + HarvestReport.loc[x,'Loc'] for x in HarvestReport.index] "
   ]
  },
  {
   "cell_type": "code",
   "execution_count": null,
   "metadata": {},
   "outputs": [],
   "source": [
    "HarvestPreObs = pd.read_sql(\"Select * from FinalYieldData\",\n",
    "                        con)\n",
    "HarvestPreObs.loc[:,'SimulationName'] = [Simulations.loc[HarvestPreObs.loc[x,'SimulationID'],'Name'] for x in HarvestPreObs.index]\n",
    "HarvestPreObs.set_index('SimulationID',inplace=True)\n",
    "HarvestPreObs.drop_duplicates(inplace=True)"
   ]
  },
  {
   "cell_type": "markdown",
   "metadata": {},
   "source": [
    "### List of simulation names that are in observations data set but are not triggering a sowing event"
   ]
  },
  {
   "cell_type": "code",
   "execution_count": null,
   "metadata": {
    "scrolled": false
   },
   "outputs": [],
   "source": [
    "NotPlanted = []\n",
    "for x in DailyPreObs.index.get_level_values(0).drop_duplicates():\n",
    "    if x not in InitialReport.index:\n",
    "        NotPlanted.append(Simulations.loc[x,'Name'])\n",
    "NotPlanted"
   ]
  },
  {
   "cell_type": "markdown",
   "metadata": {},
   "source": [
    "## List of Simulation names that are being planted but are not triggering a harvest event"
   ]
  },
  {
   "cell_type": "code",
   "execution_count": null,
   "metadata": {},
   "outputs": [],
   "source": [
    "NotHarvested = []\n",
    "for x in InitialReport.index:\n",
    "    if x not in HarvestReport.index:\n",
    "        NotHarvested.append(Simulations.loc[x,'Name'])\n",
    "NotHarvested"
   ]
  },
  {
   "cell_type": "code",
   "execution_count": null,
   "metadata": {},
   "outputs": [],
   "source": [
    "Experiments = HarvestReport.Experiment.drop_duplicates().values\n",
    "Experiments"
   ]
  },
  {
   "cell_type": "code",
   "execution_count": null,
   "metadata": {},
   "outputs": [],
   "source": [
    "Folders = ['New Zealand', 'Australia', 'SubStor','Scotland']"
   ]
  },
  {
   "cell_type": "code",
   "execution_count": null,
   "metadata": {},
   "outputs": [],
   "source": [
    "Locations = HarvestReport.loc[:,'Loc'].drop_duplicates().values\n",
    "Locations.sort()\n",
    "Countries = HarvestReport.loc[:,'Country'].drop_duplicates().values\n",
    "Countries.sort()\n",
    "CountryLocs = HarvestReport.loc[:,'Country Loc'].drop_duplicates().values\n",
    "CountryLocs.sort()"
   ]
  },
  {
   "cell_type": "code",
   "execution_count": null,
   "metadata": {},
   "outputs": [],
   "source": [
    "Locations"
   ]
  },
  {
   "cell_type": "code",
   "execution_count": null,
   "metadata": {},
   "outputs": [],
   "source": [
    "Countries"
   ]
  },
  {
   "cell_type": "code",
   "execution_count": null,
   "metadata": {},
   "outputs": [],
   "source": [
    "CountryLocs"
   ]
  },
  {
   "cell_type": "code",
   "execution_count": null,
   "metadata": {},
   "outputs": [],
   "source": [
    "AllColors"
   ]
  },
  {
   "cell_type": "code",
   "execution_count": null,
   "metadata": {},
   "outputs": [],
   "source": [
    "Cultivars = HarvestReport.Cultivar.drop_duplicates().values\n",
    "Cultivars.sort()\n",
    "Cultivars"
   ]
  },
  {
   "cell_type": "code",
   "execution_count": null,
   "metadata": {},
   "outputs": [],
   "source": [
    "CultivarAcronums = ['FD5']"
   ]
  },
  {
   "cell_type": "code",
   "execution_count": null,
   "metadata": {
    "scrolled": true
   },
   "outputs": [],
   "source": [
    "CountryProps = pd.DataFrame(index = Countries,columns=['Color'])\n",
    "pos = 0\n",
    "for x in CountryProps.index:\n",
    "    CountryProps.loc[x,'Color'] = AllColors[pos]\n",
    "    pos += 2\n",
    "CultivarProps = pd.DataFrame(index = Cultivars, data=CultivarAcronums, columns = ['CultAcro'])\n",
    "pos=0\n",
    "for x in CultivarProps.index:\n",
    "    CultivarProps.loc[x,'Color'] = AllColors[pos]\n",
    "    pos+=1\n",
    "\n",
    "ColProps = pd.DataFrame(index=HarvestReport.index)\n",
    "ColProps.loc[:,'Cultivar'] = CultivarProps.loc[[HarvestReport.loc[x,'Cultivar'] for x in ColProps.index],'Color'].values\n",
    "ColProps.loc[:,'Country'] = CountryProps.loc[[HarvestReport.loc[x,'Country'] for x in ColProps.index],'Color'].values\n",
    "ColProps"
   ]
  },
  {
   "cell_type": "code",
   "execution_count": null,
   "metadata": {},
   "outputs": [],
   "source": [
    "['AboveGround N', 'AboveGround Wt',\n",
    "       'TotalLive Wt', 'TotalLive N',\n",
    "       'AppearedCohortNo', 'CoverGreen',\n",
    "       'CoverTotal', 'LAI', 'Leaf Live N',\n",
    "       'Leaf Live Wt', 'Leaf Live NConc',\n",
    "       'Leaf SpecificArea', 'Stem Live N',\n",
    "       'Stem Live NConc', 'Stem Live Wt',\n",
    "       'Tuber DM%',\n",
    "       'Tuber Live N', 'Tuber Live NConc',\n",
    "       'Tuber Live Wt', 'Tuber LiveFWt',\n",
    "       'SW(1)',\n",
    "       'SW(2)', 'SW(3)',\n",
    "       'SW(4)', 'SW(5)',\n",
    "       'SW(6)', 'TotalSWC', 'TotalSoilN', 'TotalNO3',\n",
    "       'TotalNH4', 'SW(7)']\n",
    "\n",
    "['$g/m^2$', '$g/m^2$',\n",
    "       '$g/m^2$', '$g/m^2$',\n",
    "       '$No$', '$0-1$',\n",
    "       '$0-1$', '$LAI$', '$g/m^2$',\n",
    "       '$g/m^2$', '$g/g$',\n",
    "       'mm2/g', '$g/m^2$',\n",
    "       '$g/g$', '$g/m^2$',\n",
    "       '$g/g$',\n",
    "       '$g/m^2$', '$g/g$',\n",
    "       '$g/m^2$', '$g/m^2$',\n",
    "       'mm/mm',\n",
    "       'mm/mm', 'mm/mm',\n",
    "       'mm/mm', 'mm/mm',\n",
    "       'mm/mm', 'mm', '$kg/ha$', '$kg/ha$',\n",
    "       '$kg/ha$', 'mm/mm']"
   ]
  },
  {
   "cell_type": "code",
   "execution_count": null,
   "metadata": {
    "scrolled": true
   },
   "outputs": [],
   "source": [
    "AllVars = HarvestPreObs.loc[:,['Observed' in x for x in HarvestPreObs.columns ]].columns.values\n",
    "for i in range(len(AllVars)):\n",
    "    AllVars[i] = AllVars[i].replace('Observed.','')\n",
    "PlotVariables = AllVars[['CheckpointID' not in x and 'Clock' not in x for x in AllVars]]\n",
    "\n",
    "AllDailyVars = DailyPreObs.loc[:,['Observed' in x for x in DailyPreObs.columns ]].columns.values\n",
    "for i in range(len(AllDailyVars)):\n",
    "    AllDailyVars[i] = AllDailyVars[i].replace('Observed.','')\n",
    "PlotDailyVariables = AllDailyVars[['CheckpointID' not in x and 'Clock' not in x and 'Script' not in x for x in AllDailyVars]]\n",
    "\n",
    "#Names = ['Tuber Dry Weight','Tuber Fresh Weight', 'Tuber N','DMC','Total Wt', 'Total N']\n",
    "VariablePars = pd.DataFrame(index=PlotDailyVariables)\n",
    "VariablePars.loc[:,'Units'] = ['$g/m^2$', '$g/m^2$',\n",
    "       '$g/m^2$', '$g/m^2$',\n",
    "       '$No$', '$0-1$',\n",
    "       '$0-1$', '$LAI$', '$g/m^2$',\n",
    "       '$g/m^2$', '$g/g$',\n",
    "       'mm2/g', '$g/m^2$',\n",
    "       '$g/g$', '$g/m^2$',\n",
    "       '$g/g$',\n",
    "       '$g/m^2$', '$g/g$',\n",
    "       '$g/m^2$', '$g/m^2$',\n",
    "       'mm/mm',\n",
    "       'mm/mm', 'mm/mm',\n",
    "       'mm/mm', 'mm/mm',\n",
    "       'mm/mm', 'mm', '$kg/ha$', '$kg/ha$',\n",
    "       '$kg/ha$', 'mm/mm']\n",
    "VariablePars.loc[:,'Names'] = ['AboveGround N', 'AboveGround Wt',\n",
    "       'TotalLive Wt', 'TotalLive N',\n",
    "       'AppearedCohortNo', 'CoverGreen',\n",
    "       'CoverTotal', 'LAI', 'Leaf Live N',\n",
    "       'Leaf Live Wt', 'Leaf Live NConc',\n",
    "       'Leaf SpecificArea', 'Stem Live N',\n",
    "       'Stem Live NConc', 'Stem Live Wt',\n",
    "       'Tuber DM%',\n",
    "       'Tuber Live N', 'Tuber Live NConc',\n",
    "       'Tuber Live Wt', 'Tuber LiveFWt',\n",
    "       'SW(1)',\n",
    "       'SW(2)', 'SW(3)',\n",
    "       'SW(4)', 'SW(5)',\n",
    "       'SW(6)', 'TotalSWC', 'TotalSoilN', 'TotalNO3',\n",
    "       'TotalNH4', 'SW(7)']\n",
    "VariablePars"
   ]
  },
  {
   "cell_type": "code",
   "execution_count": null,
   "metadata": {},
   "outputs": [],
   "source": [
    "def SortedPlot(Var,GroupVar,GroupList,ax):\n",
    "    Sorted = HarvestReport.sort_values(GroupVar)\n",
    "    Sorted.loc[:,'Linear'] = range(Sorted.index.size)\n",
    "    tickPos = []\n",
    "    pastx = -10\n",
    "    ymin = Sorted.loc[:,Var].min()\n",
    "    ymax = Sorted.loc[:,Var].max()\n",
    "    DataRange = ymax-ymin\n",
    "    Offset = DataRange * 0.01\n",
    "    for g in GroupList:\n",
    "        ColDF = globals()[GroupVar+'Props']\n",
    "        col = ColDF.loc[g,'Color']\n",
    "        ffilter = Sorted.loc[:,GroupVar] == g\n",
    "        plt.plot(Sorted.loc[ffilter,'Linear'],Sorted.loc[ffilter,Var],\n",
    "                 'o',color=col,ms=15)\n",
    "        xloc = Sorted.loc[ffilter,'Linear'].mean()#.iloc[0],pastx+5)\n",
    "        pastx = xloc\n",
    "        yloc = Sorted.loc[ffilter,Var].max() + Offset# + random.randint(-40,40)\n",
    "        plt.text(xloc-5,yloc,g,fontsize=16,color=col,rotation=0,\n",
    "                 verticalalignment='bottom',horizontalalignment='center')\n",
    "    plt.ylabel(Var,fontsize=20)\n",
    "    plt.ylim(ymin,ymax*1.1)\n",
    "    ax.spines['right'].set_visible(False)\n",
    "    ax.spines['top'].set_visible(False)\n",
    "    plt.tick_params(axis='x', which='both', bottom=False,top=False, labelbottom=False,labelsize=10)\n",
    "    plt.tick_params(axis='y', which='both', left=True,right=False, labelleft=True,labelsize=16)\n",
    "    plt.title(Var,fontsize=30)        \n",
    "\n",
    "def makeConfigPlots(PlotVars,GroupVar,GroupList):\n",
    "    no = len(GroupVar)\n",
    "    rows = np.ceil(no/2) + 1\n",
    "    pos=1\n",
    "    for v in Vars:\n",
    "        ax = Graph.add_subplot(rows,2,pos)\n",
    "        SortedPlot(v,GroupVar,GroupList,ax)\n",
    "        pos+=1\n",
    "    "
   ]
  },
  {
   "cell_type": "markdown",
   "metadata": {},
   "source": [
    "## The following series of Graphs present a series of variables that reflect the configuration of each simulation so these can be sense checked against the rest of the validation set"
   ]
  },
  {
   "cell_type": "code",
   "execution_count": null,
   "metadata": {},
   "outputs": [],
   "source": [
    "Graph = plt.figure(figsize=(18,35))\n",
    "Vars = ['Weather.Latitude','Weather.Longitude',\n",
    "       'RowWidth','StemPerTuber',\n",
    "       'InterRowPlantSpace','PlantPopn',\n",
    "       'IrrigApplied','NFertApplied',\n",
    "       'Weather.CO2', 'PlantingDepth']\n",
    "makeConfigPlots(Vars,'Country',Countries)"
   ]
  },
  {
   "cell_type": "code",
   "execution_count": null,
   "metadata": {},
   "outputs": [],
   "source": [
    "Graph = plt.figure(figsize=(18,35))\n",
    "Vars = ['Weather.Latitude','Weather.Longitude',\n",
    "       'RowWidth','StemPerTuber',\n",
    "       'InterRowPlantSpace','PlantPopn',\n",
    "       'IrrigApplied','NFertApplied',\n",
    "       'Weather.CO2', 'PlantingDepth']\n",
    "makeConfigPlots(Vars,'Cultivar',Cultivars)"
   ]
  },
  {
   "cell_type": "code",
   "execution_count": null,
   "metadata": {
    "scrolled": false
   },
   "outputs": [],
   "source": [
    "def plotDepthVars(VarName,depthNorm):\n",
    "    Thicks = InitialReport.loc[:,[X for X in InitialReport.columns if 'Thickness' in X]]\n",
    "    Depths = Thicks.cumsum(axis=1)\n",
    "    Vars = InitialReport.loc[:,[X for X in InitialReport.columns if VarName in X]]\n",
    "    LayerDB = pd.DataFrame()\n",
    "    for x in Depths.index:\n",
    "        SimLayerDB = pd.DataFrame(index = pd.MultiIndex.from_product([[x],['LayerBounds','Varval']]))\n",
    "        LayerBounds = [0.0]\n",
    "        depthNormFact = 1 \n",
    "        if depthNorm == True:\n",
    "            depthNormFact = Thicks.loc[x,:][0]\n",
    "        Varvals = [Vars.loc[x,:][0]/depthNormFact]\n",
    "        for l in range(13):\n",
    "            try:\n",
    "                if depthNorm == True:\n",
    "                    depthNormFact = Thicks.loc[x,:][l]\n",
    "                LayerBounds.append(float(Depths.loc[x,:][l])*-1)\n",
    "                Varvals.append(Vars.loc[x,:][l]/depthNormFact)\n",
    "            except:\n",
    "                do = 'Nothing'\n",
    "        for p in range(len(LayerBounds)):\n",
    "            SimLayerDB.loc[(x,'LayerBounds'),p] = LayerBounds[p]\n",
    "            SimLayerDB.loc[(x,'Varval'),p] = Varvals[p]\n",
    "        LayerDB = pd.concat([LayerDB,SimLayerDB])\n",
    "        LayerDB.index = LayerDB.index.swaplevel()\n",
    "        LayerBounds = LayerDB.stack().loc['LayerBounds']\n",
    "        VarVals = LayerDB.stack().loc['Varval']\n",
    "        LayerDB = pd.concat([LayerDB,SimLayerDB])\n",
    "    MaxDep = LayerDB.loc[(slice(None),'LayerBounds'),:].min(axis=1).min()\n",
    "    MinVar = LayerDB.loc[(slice(None),'Varval'),:].min(axis=1).min()\n",
    "    MaxVar = LayerDB.loc[(slice(None),'Varval'),:].max(axis=1).max()    \n",
    "    Graph = plt.figure(figsize=(10,20))\n",
    "    cols = np.ceil(len(Locations)/5)\n",
    "    pos=1\n",
    "    for lcn in Locations:\n",
    "        ax = Graph.add_subplot(cols,5,pos)\n",
    "        #for x in Depths.index:\n",
    "        #    plcn = InitialReport.loc[x,'Location']\n",
    "        plt.plot(VarVals,LayerBounds,'o',color = 'lightgrey')\n",
    "        plt.text(0.03,1.0,lcn,transform=ax.transAxes,fontsize=12)\n",
    "        LocalVars = HarvestReport.loc[HarvestReport.loc[:,'Loc']==lcn,:].index\n",
    "        for l in LocalVars:\n",
    "            plt.plot(LayerDB.loc[(l,'Varval'),:],LayerDB.loc[(l,'LayerBounds'),:],'-o',color = 'red')\n",
    "        plt.ylim(MaxDep*1.05,0)\n",
    "        plt.xlim(MinVar * 0.8,MaxVar * 1.05)\n",
    "        ax.spines['right'].set_visible(False)\n",
    "        ax.spines['top'].set_visible(False)\n",
    "        if pos in range(1,200,5):\n",
    "            plt.tick_params(axis='y', which='both', left=True,right=False, labelleft=True,labelsize=10)\n",
    "            plt.ylabel('Depth (cm)',fontsize=12)\n",
    "        else:\n",
    "            plt.tick_params(axis='y', which='both', left=False,right=False, labelleft=False,labelsize=10)\n",
    "        if pos in list(range(len(Locations)-4,len(Locations)+1)):\n",
    "            plt.tick_params(axis='x', which='both', bottom=True,top=False, labelbottom=True,labelsize=10)\n",
    "            plt.xlabel(VarName,fontsize=12)\n",
    "        else:\n",
    "            plt.tick_params(axis='x', which='both', bottom=False,top=False, labelbottom=False,labelsize=10)\n",
    "        pos += 1\n",
    "    plt.tight_layout"
   ]
  },
  {
   "cell_type": "markdown",
   "metadata": {},
   "source": [
    "## The flowing series of graphs show CropSoil configuration settings for each simulation so they can be sense checked against the rest of the validation set"
   ]
  },
  {
   "cell_type": "code",
   "execution_count": null,
   "metadata": {
    "scrolled": false
   },
   "outputs": [],
   "source": [
    "plotDepthVars('XF',False)"
   ]
  },
  {
   "cell_type": "code",
   "execution_count": null,
   "metadata": {
    "scrolled": false
   },
   "outputs": [],
   "source": [
    "plotDepthVars('LL',False)"
   ]
  },
  {
   "cell_type": "code",
   "execution_count": null,
   "metadata": {
    "scrolled": false
   },
   "outputs": [],
   "source": [
    "plotDepthVars('KL',False)"
   ]
  },
  {
   "cell_type": "code",
   "execution_count": null,
   "metadata": {
    "scrolled": false
   },
   "outputs": [],
   "source": [
    "plotDepthVars('NH4N',False)"
   ]
  },
  {
   "cell_type": "code",
   "execution_count": null,
   "metadata": {
    "scrolled": false
   },
   "outputs": [],
   "source": [
    "plotDepthVars('NO3N',False)"
   ]
  },
  {
   "cell_type": "code",
   "execution_count": null,
   "metadata": {
    "scrolled": false
   },
   "outputs": [],
   "source": [
    "plotDepthVars('SoilCNRatio',False)"
   ]
  },
  {
   "cell_type": "code",
   "execution_count": null,
   "metadata": {
    "scrolled": false
   },
   "outputs": [],
   "source": [
    "plotDepthVars('FOM',False)"
   ]
  },
  {
   "cell_type": "code",
   "execution_count": null,
   "metadata": {},
   "outputs": [],
   "source": [
    "def MakeLabel(RegStats):\n",
    "    #text = RegStats.Name + '  n = ' + str(RegStats.n)\n",
    "    text = '\\ny = ' + '%.2f'%RegStats.Intercept + '(se ' + '%.2f'%RegStats.SEintercept + ') + ' + '%.2f'%RegStats.Slope + '(se ' + '%.2f'%RegStats.SEslope + ') x' \n",
    "    text += '\\n$r^2$ =' + '%.2f'%RegStats.R2 + ' RMSE = ' + '%.2f'%RegStats.RMSE +' NSE = ' + '%.2f'%RegStats.NSE\n",
    "    text += '\\nME = ' + '%.2f'%RegStats.ME + ' MAE = ' + '%.2f'%RegStats.MAE\n",
    "    text += '\\nn = ' + str(RegStats.n)\n",
    "    return text\n",
    "\n",
    "def AddObsPredGraph(Variables,DataTable,GroupVar,GroupList):\n",
    "    Pos = 1\n",
    "    for Var in Variables:\n",
    "        NaNFilter = np.isnan(DataTable.loc[:,'Predicted.'+Var]) | np.isnan(DataTable.loc[:,'Observed.'+Var])\n",
    "        IaNFilter = ~NaNFilter\n",
    "        Obs = DataTable.loc[:,'Observed.'+Var].loc[IaNFilter].values\n",
    "        Pred = DataTable.loc[:,'Predicted.'+Var].loc[IaNFilter].values\n",
    "        no = len(Variables)\n",
    "        rows = np.ceil(no/3)\n",
    "        ax = Graph.add_subplot(rows,3,Pos)\n",
    "        ColPos = 0\n",
    "        MarPos = 0\n",
    "        for g in GroupList:\n",
    "            ColDF = globals()[GroupVar+'Props']\n",
    "            col = ColDF.loc[g,'Color']\n",
    "            SimIDs = HarvestReport.loc[HarvestReport.loc[:,GroupVar] == g].index.values\n",
    "            ExpObs = DataTable.loc[SimIDs,'Observed.'+Var]\n",
    "            ExpPred = DataTable.loc[SimIDs,'Predicted.'+Var]\n",
    "            plt.plot(ExpObs,ExpPred,'o',color = col,label=g)\n",
    "            ColPos +=1\n",
    "            if ColPos == 30:\n",
    "                ColPos = 1\n",
    "                MarPos +=1\n",
    "        uplim = max(Obs.max(),Pred.max())*1.1\n",
    "        lowlim = min(Obs.min(),Pred.min())*0.95\n",
    "        plt.text(0.02,0.94,VariablePars.loc[Var,'Names'],transform=ax.transAxes,fontsize=20)\n",
    "        plt.ylim(0,uplim)\n",
    "        plt.xlim(0,uplim)\n",
    "        plt.plot([lowlim,uplim*.95],[lowlim,uplim*.95],'-',color='k')\n",
    "        RegStats = MUte.MathUtilities.CalcRegressionStats(Var,Pred,Obs)\n",
    "        LabelText = MakeLabel(RegStats)\n",
    "        #plt.text(uplim*0.05,uplim*.78,LabelText)\n",
    "        #Fit linear regression to current series and store slope and intercept in dataframe\n",
    "        ModFit = sm.regression.linear_model.OLS(Pred,  # Y variable\n",
    "                                            sm.add_constant(Obs), # X variable\n",
    "                                            missing='drop',                                     # ignor and data where one value is missing\n",
    "                                            hasconst=False) \n",
    "        RegFit = ModFit.fit();  # fit models parameters\n",
    "        Slope = RegFit.params[1] \n",
    "        Intercept = RegFit.params[0]\n",
    "        Xs = [lowlim,uplim*.95]\n",
    "        Ys = [Intercept + Xs[0]*Slope,Intercept + Xs[1]*Slope]\n",
    "        plt.plot(Xs,Ys,'--',color='r')\n",
    "        plt.ylabel('Pred ' + VariablePars.loc[Var,'Names'] + ' ('  + VariablePars.loc[Var,'Units'] + ')')\n",
    "        plt.xlabel('Obs ' + VariablePars.loc[Var,'Names'] + ' ('  + VariablePars.loc[Var,'Units'] + ')')\n",
    "        ax.spines['right'].set_visible(False)\n",
    "        ax.spines['top'].set_visible(False)\n",
    "        plt.tick_params(axis='x', which='both', bottom=True,top=False, labelbottom=True)\n",
    "        plt.tick_params(axis='y', which='both', left=True,right=False, labelbottom=True)\n",
    "        if Pos == 1:\n",
    "            GH.AddLegend(LegLoc = (0,1.1),labelsize=16,Title='',NCol=5,MScale=2)\n",
    "        Pos +=1"
   ]
  },
  {
   "cell_type": "markdown",
   "metadata": {},
   "source": [
    "## Standard Obs vs Pred graph for Harvest"
   ]
  },
  {
   "cell_type": "code",
   "execution_count": null,
   "metadata": {
    "scrolled": false
   },
   "outputs": [],
   "source": [
    "Graph = plt.figure(figsize=(15,20))\n",
    "AddObsPredGraph(PlotVariables,HarvestPreObs,'Country',Countries)"
   ]
  },
  {
   "cell_type": "markdown",
   "metadata": {},
   "source": [
    "## Standard Obs vs Pre graph for time series data"
   ]
  },
  {
   "cell_type": "code",
   "execution_count": null,
   "metadata": {
    "scrolled": false
   },
   "outputs": [],
   "source": [
    "Graph = plt.figure(figsize=(15,40))\n",
    "AddObsPredGraph(PlotDailyVariables,DailyPreObs,'Country',Countries)"
   ]
  },
  {
   "cell_type": "code",
   "execution_count": null,
   "metadata": {
    "scrolled": true
   },
   "outputs": [],
   "source": [
    "HarvestResiduals = HarvestPreObs.loc[:,[X for X in HarvestPreObs.columns if 'Pred-Obs' in X]].copy()"
   ]
  },
  {
   "cell_type": "code",
   "execution_count": null,
   "metadata": {},
   "outputs": [],
   "source": [
    "def GroupResidulesGraph(Variables,ResidulesTable,GroupList,GroupVar):\n",
    "    panpos = 1\n",
    "    rows = len(Variables)\n",
    "    for Var in Variables:\n",
    "        ax = Graph.add_subplot(rows,1,panpos)\n",
    "        startx = 0\n",
    "        tickPoss = []\n",
    "        tickLabs = []\n",
    "        colpos = 1\n",
    "        upper = ResidulesTable.loc[:,'Pred-Obs.' + Var].max() * 1.1\n",
    "        lower = ResidulesTable.loc[:,'Pred-Obs.' + Var].min() * 1.1\n",
    "        MeanResidual = ResidulesTable.loc[:,'Pred-Obs.' + Var].mean()\n",
    "        TextPos = 'Lower'\n",
    "        for group in GroupList:\n",
    "            ColDF = globals()[GroupVar+'Props']\n",
    "            col = ColDF.loc[group,'Color']\n",
    "            SimIDs = HarvestReport.loc[HarvestReport.loc[:,GroupVar]==group,:].index.values\n",
    "            xvals = range(startx,startx+len(SimIDs))\n",
    "            plt.plot(xvals,ResidulesTable.reindex(SimIDs,axis=0).loc[:,'Pred-Obs.' + Var],\n",
    "                     '-o',color=col)\n",
    "            #tickPoss.append(startx+len(SimIDs)/2)\n",
    "            tickLabs.append(group)\n",
    "            if TextPos=='Lower':\n",
    "                plt.text(startx+len(SimIDs)/2,lower,group,fontsize=16,\n",
    "                         color=col,rotation=-45,verticalalignment='bottom',horizontalalignment='center')\n",
    "                TextPos = 'Upper'\n",
    "            else:\n",
    "                plt.text(startx+len(SimIDs)/2,upper,group,fontsize=16,\n",
    "                         color=col,rotation=-45,verticalalignment='top',horizontalalignment='center')\n",
    "                TextPos = 'Lower'\n",
    "            startx += len(SimIDs)\n",
    "            if colpos == 30:\n",
    "                colpos = 0\n",
    "            colpos+=1\n",
    "        ax.xaxis.set_major_locator(plt.FixedLocator(tickPoss))\n",
    "        ax.set_xticklabels(tickLabs)\n",
    "        plt.tick_params(rotation=90)\n",
    "        plt.plot([0,startx],[MeanResidual,MeanResidual],'-',lw=3,color='k')\n",
    "        plt.plot([0,startx],[0,0],'--',lw=3,color='k')\n",
    "        plt.ylim(lower,upper)\n",
    "        plt.title(Var,fontsize=25)\n",
    "        plt.ylabel('Pred-Obs')\n",
    "        ax.spines['right'].set_visible(False)\n",
    "        ax.spines['top'].set_visible(False)\n",
    "        plt.tick_params(axis='x', which='both', bottom=True,top=False, labelbottom=True)\n",
    "        plt.tick_params(axis='y', which='both', left=True,right=False, labelbottom=True)\n",
    "        panpos+=1"
   ]
  },
  {
   "cell_type": "markdown",
   "metadata": {},
   "source": [
    "## Graph residuals for key variables grouped by cultivar"
   ]
  },
  {
   "cell_type": "code",
   "execution_count": null,
   "metadata": {
    "scrolled": false
   },
   "outputs": [],
   "source": [
    "Graph = plt.figure(figsize=(15,60))\n",
    "GroupResidulesGraph(PlotVariables,HarvestResiduals,Cultivars,'Cultivar')"
   ]
  },
  {
   "cell_type": "markdown",
   "metadata": {},
   "source": [
    "## Graph residuals for key variables grouped by location"
   ]
  },
  {
   "cell_type": "code",
   "execution_count": null,
   "metadata": {
    "scrolled": false
   },
   "outputs": [],
   "source": [
    "Graph = plt.figure(figsize=(15,60))\n",
    "GroupResidulesGraph(PlotVariables,HarvestResiduals,Countries,'Country')"
   ]
  },
  {
   "cell_type": "markdown",
   "metadata": {},
   "source": [
    "## Make graphs of residuals vs simulation configuration variables"
   ]
  },
  {
   "cell_type": "code",
   "execution_count": null,
   "metadata": {},
   "outputs": [],
   "source": [
    "def ResidulesVsVariable(ResidulesTable,Variable,GroupList,GroupVar,XVariables):\n",
    "    pos = 1\n",
    "    for vsVariable in XVariables:\n",
    "        ax = Graph.add_subplot(4,2,pos)\n",
    "        for group in GroupList:\n",
    "            ColDF = globals()[GroupVar+'Props']\n",
    "            col = ColDF.loc[group,'Color']\n",
    "            SimIDs = HarvestReport.loc[HarvestReport.loc[:,GroupVar]==group,:].index.values\n",
    "            yvals = ResidulesTable.reindex(SimIDs,axis=0).loc[:,'Pred-Obs.Potato.'+Variable]\n",
    "            xvals = HarvestReport.reindex(SimIDs,axis=0).loc[:,vsVariable]\n",
    "            plt.plot(xvals,yvals,'o',color=col,label=group)\n",
    "            upper = HarvestReport.loc[:,vsVariable].max() * 1.1\n",
    "            lower = HarvestReport.loc[:,vsVariable].min() * 0.8\n",
    "            MeanResidual = ResidulesTable.loc[:,'Pred-Obs.Potato.' + Variable].mean()\n",
    "            plt.plot([lower,upper],[MeanResidual,MeanResidual],'-',lw=3,color='k')\n",
    "            plt.plot([lower,upper],[0,0],'--',lw=3,color='k')\n",
    "            plt.title('Pred-Obs ' + Variable + ' vs ' + vsVariable)\n",
    "            plt.ylabel('Pred-Obs ' + Variable)\n",
    "            plt.xlabel(vsVariable)\n",
    "        ax.spines['right'].set_visible(False)\n",
    "        ax.spines['top'].set_visible(False)\n",
    "        plt.tick_params(axis='x', which='both', bottom=True,top=False, labelbottom=True)\n",
    "        plt.tick_params(axis='y', which='both', left=True,right=False, labelbottom=True)\n",
    "        if pos == 1:\n",
    "            GH.AddLegend(LegLoc = (0,1.1),labelsize=16,Title='',NCol=5,MScale=2)\n",
    "        pos+=1"
   ]
  },
  {
   "cell_type": "code",
   "execution_count": null,
   "metadata": {},
   "outputs": [],
   "source": [
    "Graph = plt.figure(figsize=(15,20))\n",
    "XVariables = ['IrrigApplied','NFertApplied','Weather.Latitude',\n",
    "'Weather.Longitude','PlantPopn','StemPopn','Weather.CO2','PlantingDepth']\n",
    "ResidulesVsVariable(HarvestResiduals,'Tuber.Live.Wt',Cultivars,'Cultivar',XVariables)"
   ]
  },
  {
   "cell_type": "code",
   "execution_count": null,
   "metadata": {},
   "outputs": [],
   "source": [
    "Graph = plt.figure(figsize=(15,20))\n",
    "XVariables = ['IrrigApplied','NFertApplied','Weather.Latitude',\n",
    "'Weather.Longitude','PlantPopn','StemPopn','Weather.CO2','PlantingDepth']\n",
    "ResidulesVsVariable(HarvestResiduals,'Tuber.Live.Wt',Countries,'Country',XVariables)"
   ]
  },
  {
   "cell_type": "code",
   "execution_count": null,
   "metadata": {},
   "outputs": [],
   "source": [
    "def simsWithTimeCoarseData(Var):\n",
    "    SimsWithTimeCoarseData = []\n",
    "    for sim in DailyPreObs.index.drop_duplicates():\n",
    "        try:\n",
    "            obsNo = len(DailyPreObs.loc[sim,'Pred-Obs.Potato.'+Var].dropna().values)\n",
    "            if obsNo>1:\n",
    "                SimsWithTimeCoarseData.append(sim)\n",
    "        except:\n",
    "            do = 'Nothing'\n",
    "    return SimsWithTimeCoarseData\n",
    "\n",
    "def ResidulesVsTtSow(Variable,GroupLabel,colourLabel):\n",
    "    SimsWithTimeDataForVar = simsWithTimeCoarseData(Variable)\n",
    "    WithTimeCoarseData = HarvestReport.reindex(SimsWithTimeDataForVar,axis=0).loc[:,GroupLabel].dropna().drop_duplicates().values\n",
    "    Grouping = WithTimeCoarseData\n",
    "    Grouping.sort()\n",
    "    cols = np.ceil(len(Grouping)/5)\n",
    "    pos=1\n",
    "    upper = DailyPreObs.loc[:,'Pred-Obs.Potato.'+Variable].max() * 1.1\n",
    "    lower = DailyPreObs.loc[:,'Pred-Obs.Potato.'+Variable].min() * 0.8\n",
    "    MeanResidual = DailyPreObs.loc[:,'Pred-Obs.Potato.'+Variable].mean()\n",
    "    DailyObsPredSims = DailyPreObs.index.drop_duplicates()\n",
    "    for group in Grouping:\n",
    "        ax = Graph.add_subplot(cols,5,pos)\n",
    "        simsInGroup = HarvestReport.loc[HarvestReport.loc[:,GroupLabel]==group].index\n",
    "        GroupSimsWithTimeCoarseData = list(set(HarvestReport.loc[HarvestReport.loc[:,GroupLabel]==group].index) & set(SimsWithTimeDataForVar))\n",
    "        for sim in GroupSimsWithTimeCoarseData:\n",
    "            col = ColProps.loc[sim,colourLabel]\n",
    "            residuals = DailyPreObs.loc[sim,'Pred-Obs.Potato.'+Variable]\n",
    "            DatesWithObs = DailyReport.loc[:,'Clock.Today'].isin(DailyPreObs.loc[sim,'Clock.Today'])\n",
    "            TtSow = DailyReport.loc[DatesWithObs,:].loc[sim,'Potato.Phenology.AccumulatedEmergedTT'].values\n",
    "            try:\n",
    "                plt.plot(TtSow,residuals,'o-',color=col,label=group)\n",
    "            except:\n",
    "                print(DailyReport.loc[sim,'SimulationName'].drop_duplicates())\n",
    "        plt.text(0.03,1.0,group,transform=ax.transAxes,fontsize=12)\n",
    "        plt.ylim(lower,upper)\n",
    "        plt.plot([0,2300],[MeanResidual,MeanResidual],'-',lw=3,color='k')\n",
    "        plt.plot([0,2300],[0,0],'--',lw=3,color='k')\n",
    "        ax.spines['right'].set_visible(False)\n",
    "        ax.spines['top'].set_visible(False)\n",
    "        if pos in range(1,200,5):\n",
    "            plt.tick_params(axis='y', which='both', left=True,right=False, labelleft=True,labelsize=10)\n",
    "            plt.ylabel('Pred-Obs '+Variable,fontsize=12)\n",
    "        else:\n",
    "            plt.tick_params(axis='y', which='both', left=False,right=False, labelleft=False,labelsize=10)\n",
    "        if pos in list(range(len(Grouping)-4,len(Grouping)+1)):\n",
    "            plt.tick_params(axis='x', which='both', bottom=True,top=False, labelbottom=True,labelsize=10)\n",
    "            plt.xlabel('TtAccumSow',fontsize=12)\n",
    "        else:\n",
    "            plt.tick_params(axis='x', which='both', bottom=False,top=False, labelbottom=False,labelsize=10)\n",
    "        pos+=1\n",
    "    plt.tight_layout"
   ]
  },
  {
   "cell_type": "markdown",
   "metadata": {},
   "source": [
    "## Make Graphs of tuber live Wt residuals for each location plotted against thermal time since sowing"
   ]
  },
  {
   "cell_type": "code",
   "execution_count": null,
   "metadata": {},
   "outputs": [],
   "source": [
    "Graph = plt.figure(figsize=(15,10))\n",
    "PlotVar = 'Tuber.Live.Wt'\n",
    "SortVar = 'Country'\n",
    "ColorVar = 'Cultivar'\n",
    "ResidulesVsTtSow(PlotVar,SortVar,ColorVar)"
   ]
  },
  {
   "cell_type": "markdown",
   "metadata": {},
   "source": [
    "## Make Graphs of tuber live Wt residuals for each Cultivar plotted against thermal time since sowing"
   ]
  },
  {
   "cell_type": "code",
   "execution_count": null,
   "metadata": {},
   "outputs": [],
   "source": [
    "Graph = plt.figure(figsize=(15,20))\n",
    "PlotVar = 'Tuber.Live.Wt'\n",
    "SortVar = 'Cultivar'\n",
    "ColorVar = 'Country'\n",
    "ResidulesVsTtSow(PlotVar,SortVar,ColorVar)"
   ]
  },
  {
   "cell_type": "markdown",
   "metadata": {},
   "source": [
    "## Make Graphs of LAI residuals for each cultivar plotted against thermal time since sowing"
   ]
  },
  {
   "cell_type": "code",
   "execution_count": null,
   "metadata": {},
   "outputs": [],
   "source": [
    "Graph = plt.figure(figsize=(15,10))\n",
    "PlotVar = 'Leaf.LAI'\n",
    "SortVar = 'Cultivar'\n",
    "ColorVar = 'Country'\n",
    "ResidulesVsTtSow(PlotVar,SortVar,ColorVar)"
   ]
  },
  {
   "cell_type": "code",
   "execution_count": null,
   "metadata": {},
   "outputs": [],
   "source": [
    "Graph = plt.figure(figsize=(15,10))\n",
    "PlotVar = 'Leaf.Live.NConc'\n",
    "SortVar = 'Cultivar'\n",
    "ColorVar = 'Country'\n",
    "ResidulesVsTtSow(PlotVar,SortVar,ColorVar)"
   ]
  },
  {
   "cell_type": "code",
   "execution_count": null,
   "metadata": {},
   "outputs": [],
   "source": [
    "Graph = plt.figure(figsize=(15,20))\n",
    "PlotVar = 'Leaf.Live.Wt'\n",
    "SortVar = 'Cultivar'\n",
    "ColorVar = 'Country'\n",
    "ResidulesVsTtSow(PlotVar,SortVar,ColorVar)"
   ]
  },
  {
   "cell_type": "code",
   "execution_count": null,
   "metadata": {},
   "outputs": [],
   "source": [
    "Graph = plt.figure(figsize=(15,20))\n",
    "PlotVar = 'Stem.Live.Wt'\n",
    "SortVar = 'Cultivar'\n",
    "ColorVar = 'Country'\n",
    "ResidulesVsTtSow(PlotVar,SortVar,ColorVar)"
   ]
  },
  {
   "cell_type": "code",
   "execution_count": null,
   "metadata": {},
   "outputs": [],
   "source": [
    "Graph = plt.figure(figsize=(15,20))\n",
    "PlotVar = 'Stem.Live.Wt'\n",
    "SortVar = 'Cultivar'\n",
    "ColorVar = 'Country'\n",
    "ResidulesVsTtSow(PlotVar,SortVar,ColorVar)"
   ]
  },
  {
   "cell_type": "code",
   "execution_count": null,
   "metadata": {},
   "outputs": [],
   "source": [
    "Graph = plt.figure(figsize=(15,10))\n",
    "ResidulesVsTtSow('Leaf.LAI','Cultivar','Country')"
   ]
  },
  {
   "cell_type": "code",
   "execution_count": null,
   "metadata": {},
   "outputs": [],
   "source": [
    "CultByCountry = HarvestReport.reindex(['Country','Cultivar'],axis=1).drop_duplicates()\n",
    "for CbC in CultByCountry.index:\n",
    "    CultCountryFilter = (HarvestReport.loc[:,'Country'] == CultByCountry.loc[CbC,'Country']) & \\\n",
    "                        (HarvestReport.loc[:,'Cultivar'] == CultByCountry.loc[CbC,'Cultivar'])\n",
    "    CultByCountry.loc[CbC,'Count'] = HarvestReport.loc[CultCountryFilter,:].index.size\n",
    "\n",
    "Graph = plt.figure(figsize=(12,10))\n",
    "MaxSize = CultByCountry.loc[:,'Count'].max() * 1.5\n",
    "for CbC in CultByCountry.index:\n",
    "    col = ColProps.loc[CbC,'Cultivar']\n",
    "    size = CultByCountry.loc[CbC,'Count']\n",
    "    Alpha = (MaxSize-size)/MaxSize\n",
    "    plt.plot(CultByCountry.loc[CbC,'Country'],CultByCountry.loc[CbC,'Cultivar'],'o',color=col,ms=size,alpha=Alpha)\n",
    "plt.xticks(rotation=45)\n",
    "CountryCounts = CultByCountry.groupby('Country').sum().sort_values('Count',ascending=False)\n",
    "CultivarCounts = CultByCountry.groupby('Cultivar').sum().sort_values('Count',ascending=False)\n",
    "for c in CountryCounts.index:\n",
    "    plt.text(c,-1.5,int(CountryCounts.loc[c,'Count']),verticalalignment='bottom',horizontalalignment='center')\n",
    "for c in CultivarCounts.index:\n",
    "    plt.text(-1.5,c,int(CultivarCounts.loc[c,'Count']),verticalalignment='center',horizontalalignment='left')\n",
    "plt.xlim(-2,20)"
   ]
  },
  {
   "cell_type": "code",
   "execution_count": null,
   "metadata": {},
   "outputs": [],
   "source": [
    "def WeatherVsDAS(Variable,GroupLabel,colourLabel):\n",
    "    Grouping = HarvestReport.loc[:,GroupLabel].dropna().drop_duplicates().values\n",
    "    cols = np.ceil(len(Grouping)/3)\n",
    "    pos=1\n",
    "    upper = DailyReport.loc[:,'Weather.'+Variable].max() * 1.1\n",
    "    lower = DailyReport.loc[:,'Weather.'+Variable].min() * 0.8\n",
    "    for group in Grouping:\n",
    "        ax = Graph.add_subplot(cols,3,pos)\n",
    "        simsInGroup = HarvestReport.loc[HarvestReport.loc[:,GroupLabel]==group].index\n",
    "        GroupSims = HarvestReport.loc[HarvestReport.loc[:,GroupLabel]==group].index\n",
    "        for sim in GroupSims:\n",
    "            col = ColProps.loc[sim,colourLabel]\n",
    "            DAS = DailyReport.loc[sim,'Potato.Phenology.DaysAfterSowing']\n",
    "            NonZeros = DAS>0\n",
    "            DAS = DAS.loc[NonZeros]\n",
    "            absolutes = DailyReport.loc[sim,'Weather.'+Variable].loc[NonZeros]\n",
    "            try:\n",
    "                plt.plot(DAS,absolutes,'o-',color=col,label=group)\n",
    "                if Variable == 'Radn':\n",
    "                    qmax = DailyReport.loc[sim,'Weather.Qmax'].loc[NonZeros]\n",
    "                    plt.plot(DAS,qmax,'o-',color='gold',label='qmax')\n",
    "                if Variable == 'MaxT':\n",
    "                    MinT = DailyReport.loc[sim,'Weather.MinT'].loc[NonZeros]\n",
    "                    plt.plot(DAS,MinT,'o-',color=col,label=group,alpha=0.5,mfc='white')\n",
    "            except:\n",
    "                print(DailyReport.loc[sim,'SimulationName'].drop_duplicates())\n",
    "        plt.text(0.03,1.0,group + ', ' + HarvestReport.loc[sim,'Country'] + \\\n",
    "                 ' (' +  str(HarvestReport.loc[sim,'Weather.Latitude']) + ' deg)',\n",
    "                 transform=ax.transAxes,fontsize=12)\n",
    "        plt.ylim(lower,upper)\n",
    "        ax.spines['right'].set_visible(False)\n",
    "        ax.spines['top'].set_visible(False)\n",
    "        if pos in range(1,200,3):\n",
    "            plt.tick_params(axis='y', which='both', left=True,right=False, labelleft=True,labelsize=10)\n",
    "            plt.ylabel(Variable,fontsize=12)\n",
    "        else:\n",
    "            plt.tick_params(axis='y', which='both', left=False,right=False, labelleft=False,labelsize=10)\n",
    "        if pos in list(range(len(Grouping)-4,len(Grouping)+1)):\n",
    "            plt.tick_params(axis='x', which='both', bottom=True,top=False, labelbottom=True,labelsize=10)\n",
    "            plt.xlabel('DAS',fontsize=12)\n",
    "        else:\n",
    "            plt.tick_params(axis='x', which='both', bottom=False,top=False, labelbottom=False,labelsize=10)\n",
    "        pos+=1\n",
    "    plt.tight_layout"
   ]
  },
  {
   "cell_type": "code",
   "execution_count": null,
   "metadata": {
    "scrolled": false
   },
   "outputs": [],
   "source": [
    "Graph = plt.figure(figsize=(15,40))\n",
    "WeatherVsDAS('Radn','Loc','Country')"
   ]
  },
  {
   "cell_type": "code",
   "execution_count": null,
   "metadata": {
    "scrolled": false
   },
   "outputs": [],
   "source": [
    "Graph = plt.figure(figsize=(15,40))\n",
    "WeatherVsDAS('MaxT','Loc','Country')"
   ]
  },
  {
   "cell_type": "code",
   "execution_count": null,
   "metadata": {},
   "outputs": [],
   "source": [
    "Graph = plt.figure(figsize=(15,40))\n",
    "WeatherVsDAS('Wind','Loc','Country')"
   ]
  },
  {
   "cell_type": "code",
   "execution_count": null,
   "metadata": {},
   "outputs": [],
   "source": [
    "Graph = plt.figure(figsize=(15,40))\n",
    "WeatherVsDAS('VPD','Loc','Country')"
   ]
  },
  {
   "cell_type": "code",
   "execution_count": null,
   "metadata": {},
   "outputs": [],
   "source": [
    "Graph = plt.figure(figsize=(15,40))\n",
    "WeatherVsDAS('Rain','Loc','Country')"
   ]
  },
  {
   "cell_type": "code",
   "execution_count": null,
   "metadata": {},
   "outputs": [],
   "source": [
    "DailyReport.loc[:,'RadResid'] = DailyReport.loc[:,'Weather.Qmax'] - DailyReport.loc[:,'Weather.Radn'] "
   ]
  },
  {
   "cell_type": "code",
   "execution_count": null,
   "metadata": {},
   "outputs": [],
   "source": [
    "Graph = plt.figure(figsize=(15,40))\n",
    "GroupLabel='Loc'\n",
    "Grouping = HarvestReport.loc[:,GroupLabel].dropna().drop_duplicates().values\n",
    "cols = np.ceil(len(Grouping)/3)\n",
    "pos=1\n",
    "upper = DailyReport.loc[:,'RadResid'].max() * 1.1\n",
    "lower = DailyReport.loc[:,'RadResid'].min() * 0.8\n",
    "for group in Grouping:\n",
    "    ax = Graph.add_subplot(cols,3,pos)\n",
    "    simsInGroup = HarvestReport.loc[HarvestReport.loc[:,GroupLabel]==group].index\n",
    "    GroupSims = HarvestReport.loc[HarvestReport.loc[:,GroupLabel]==group].index\n",
    "    for sim in GroupSims:\n",
    "        col = ColProps.loc[sim,'Country']\n",
    "        Rain = DailyReport.loc[sim,'Weather.Rain']\n",
    "        ResRad = DailyReport.loc[sim,'RadResid']\n",
    "        try:\n",
    "            plt.plot(Rain,ResRad,'o',color=col,label=group)\n",
    "        except:\n",
    "            print(DailyReport.loc[sim,'SimulationName'].drop_duplicates())\n",
    "    plt.text(0.03,1.0,group + ', ' + HarvestReport.loc[sim,'Country'] + \\\n",
    "             ' (' +  str(HarvestReport.loc[sim,'Weather.Latitude']) + ' deg)',\n",
    "             transform=ax.transAxes,fontsize=12)\n",
    "    plt.ylim(lower,upper)\n",
    "    ax.spines['right'].set_visible(False)\n",
    "    ax.spines['top'].set_visible(False)\n",
    "    if pos in range(1,200,3):\n",
    "        plt.tick_params(axis='y', which='both', left=True,right=False, labelleft=True,labelsize=10)\n",
    "        plt.ylabel('Residual Radn',fontsize=12)\n",
    "    else:\n",
    "        plt.tick_params(axis='y', which='both', left=False,right=False, labelleft=False,labelsize=10)\n",
    "    if pos in list(range(len(Grouping)-4,len(Grouping)+1)):\n",
    "        plt.tick_params(axis='x', which='both', bottom=True,top=False, labelbottom=True,labelsize=10)\n",
    "        plt.xlabel('DAS',fontsize=12)\n",
    "    else:\n",
    "        plt.tick_params(axis='x', which='both', bottom=False,top=False, labelbottom=False,labelsize=10)\n",
    "    pos+=1\n",
    "plt.tight_layout"
   ]
  }
 ],
 "metadata": {
  "kernelspec": {
   "display_name": "Python 3",
   "language": "python",
   "name": "python3"
  },
  "language_info": {
   "codemirror_mode": {
    "name": "ipython",
    "version": 3
   },
   "file_extension": ".py",
   "mimetype": "text/x-python",
   "name": "python",
   "nbconvert_exporter": "python",
   "pygments_lexer": "ipython3",
   "version": "3.7.7"
  }
 },
 "nbformat": 4,
 "nbformat_minor": 1
}
