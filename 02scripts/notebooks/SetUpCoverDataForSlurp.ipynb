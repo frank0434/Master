{
 "cells": [
  {
   "cell_type": "markdown",
   "metadata": {},
   "source": [
    "# Background Information \n",
    "\n",
    "The slurp model requirs three essential inputs:  \n",
    "1. Met.   \n",
    "2. Canopy cover. \n",
    "3. Initial soil conditions. \n",
    "\n",
    "\n",
    "Model set up   \n",
    "1. No notion of population or rowSpacing. but need to be provided via   \n",
    "```Slurp.Sow(cultivar: StaticCrop, population: 1, depth: 10, rowSpacing: 150);```\n",
    "\n",
    "2. Altering Slurp properties during runs  \n",
    "In some cases users will wish to change properties of Slurp while the simulation is running. This can be done using a the set method in a manager script.   \n",
    "```\n",
    "object LAIResetValue = leaflai;\n",
    "zone.Set(\"Slurp.Leaf.LAIFunction.Value()\", LAIResetValue);\n",
    "object HeightResetValue = CoverToday * MaximumHeight;\n",
    "zone.Set(\"Slurp.Leaf.HeightFunction.Value()\", HeightResetValue);\n",
    "```\n",
    "Model is driven by thermal time, so temperature and base temperature are critical?\n",
    "\n",
    "A broken-stick threshold model was used in the thesis \n",
    "\n",
    "Tt is accumulated linearly at a rate of 0.7 °Cd/°C up to 15 °C and then at a rate of 1.0 until 30 \n",
    "\n",
    "$T_b$ = 1\n",
    "$T_t$ = 0.7 °Cd/°C when temperature below 15 \n",
    "$T_t$ = 1 °Cd/°C when temperature is in 15 and 30 \n",
    "\n",
    "\n",
    "\n"
   ]
  },
  {
   "cell_type": "markdown",
   "metadata": {},
   "source": [
    "# Prepare the cover data \n",
    "\n",
    "Light interception was not measured directly due to the instrement reported incorrect measurements for crops grown under droughts.\n",
    "\n",
    "Frational light interception can be calculated from desctructive LAI   \n",
    "\n",
    "$$R/R_0 = 1 - exp(-k\\times LAI)$$\n",
    "\n",
    "where (extinction coefficient) k was obtained by sunscan measurements. more details in the thesis and 2017 paper of Richard's\n",
    "\n",
    "k values differ seasonally. \n",
    "k for all Iversen 12 and spring(Sep - Nov) and autumn(Feb - Apr) on both stone soils - **0.94 $\\pm$ 0.014**  \n",
    "k for summer (Dec - Jan) on both stone soils - **0.66 $\\pm$ 0.013**"
   ]
  },
  {
   "cell_type": "code",
   "execution_count": null,
   "metadata": {},
   "outputs": [],
   "source": [
    "#load packages\n",
    "import sqlite3\n",
    "import re\n",
    "import datetime\n",
    "import pandas as pd\n",
    "import numpy as np\n",
    "import matplotlib.pyplot as plt\n",
    "import seaborn as sns\n",
    "import math"
   ]
  },
  {
   "cell_type": "code",
   "execution_count": null,
   "metadata": {},
   "outputs": [],
   "source": [
    "def print_full(x):\n",
    "    pd.set_option('display.max_rows', len(x))\n",
    "    print(x)\n",
    "    pd.reset_option('display.max_rows')"
   ]
  },
  {
   "cell_type": "code",
   "execution_count": null,
   "metadata": {},
   "outputs": [],
   "source": [
    "# Build connection with db\n",
    "con = sqlite3.connect('../../03processed-data/Richard.sqlite3')\n",
    "mycur = con.cursor() \n",
    "mycur.execute(\"SELECT name FROM sqlite_master WHERE type='table' ORDER BY name;\")\n",
    "(mycur.fetchall())"
   ]
  },
  {
   "cell_type": "code",
   "execution_count": null,
   "metadata": {},
   "outputs": [],
   "source": [
    "# Read data in \n",
    "biomass = pd.read_sql('Select * from biomass',  con)\n",
    "met_AD = pd.read_sql('Select * from met_AshleyDene', con)\n",
    "met_I12 = pd.read_sql('Select * from met_Iversen12', con)"
   ]
  },
  {
   "cell_type": "code",
   "execution_count": null,
   "metadata": {},
   "outputs": [],
   "source": [
    "LAI_Height = biomass.loc[(biomass['Seed'] == 'CS')\n",
    "                         & (biomass['Harvest.No.']!='Post'), \n",
    "                         ['Experiment', 'Clock.Today', 'SowingDate', 'Rep',\n",
    "                          'Plot', 'Rotation.No.', 'Harvest.No.', 'Height','LAImod']]"
   ]
  },
  {
   "cell_type": "code",
   "execution_count": null,
   "metadata": {},
   "outputs": [],
   "source": [
    "# Plot that had 'Post' measurement should be out \n",
    "LAI_Height[(LAI_Height['Harvest.No.'] == 'Post') & (LAI_Height.LAImod==0)]"
   ]
  },
  {
   "cell_type": "code",
   "execution_count": null,
   "metadata": {},
   "outputs": [],
   "source": [
    "# Add the k for all \n",
    "LAI_Height['k'] = 0.94\n",
    "# Replace the k for the summur crop in Ashley Dene\n",
    "# LAI_Height.loc[(LAI_Height['Clock.Today'] > '2011-11-30') \n",
    "#                & (LAI_Height['Clock.Today'] < '2012-03-01') \n",
    "#                & (LAI_Height['Experiment'] == 'AshleyDene'), 'k'] = 0.66"
   ]
  },
  {
   "cell_type": "code",
   "execution_count": null,
   "metadata": {},
   "outputs": [],
   "source": [
    "LAI_Height['Date'] = pd.to_datetime(LAI_Height['Clock.Today']).dt.strftime('%Y %b')"
   ]
  },
  {
   "cell_type": "code",
   "execution_count": null,
   "metadata": {},
   "outputs": [],
   "source": [
    "# Check if the replace take effect\n",
    "grid = sns.FacetGrid(LAI_Height, col ='Experiment', row = 'SowingDate', \n",
    "                      hue=\"SowingDate\", palette=\"Set2\",aspect=1.5, sharex=False)\n",
    "grid.map(plt.scatter, 'Date', 'k')\n",
    "grid.set_xticklabels(rotation=45)\n",
    "grid.fig.tight_layout()"
   ]
  },
  {
   "cell_type": "markdown",
   "metadata": {},
   "source": [
    "# Note at 20200601\n",
    "\n",
    "The slurp seems not allow users to access [Slurp].Leaf.CoverTotal     \n",
    "The setupvariable manager script is calculating LAI to feed into the model with a fixed $k$ value"
   ]
  },
  {
   "cell_type": "code",
   "execution_count": null,
   "metadata": {},
   "outputs": [],
   "source": [
    "print_full(LAI_Height[LAI_Height['LAImod'== 0]])"
   ]
  },
  {
   "cell_type": "markdown",
   "metadata": {},
   "source": [
    "# Harvest dates"
   ]
  },
  {
   "cell_type": "code",
   "execution_count": null,
   "metadata": {},
   "outputs": [],
   "source": [
    "SDs = ['SD' + str(SD) for SD in range(1, 11)]\n",
    "SDs\n",
    "LAI_Height.loc[(LAI_Height['Experiment'] == 'AshleyDene')\n",
    "               & (LAI_Height['SowingDate'] =='SD1'), ['Clock.Today','Harvest.No.']].drop_duplicates()"
   ]
  },
  {
   "cell_type": "code",
   "execution_count": null,
   "metadata": {},
   "outputs": [],
   "source": [
    "sites = ['AshleyDene', 'Iversen12']\n",
    "for site in sites: \n",
    "    for i in SDs:\n",
    "        LAI_Height.loc[(LAI_Height['Experiment'] == site) \n",
    "                       & (LAI_Height.SowingDate == i),\n",
    "                       ['Clock.Today','Harvest.No.']]. \\\n",
    "        drop_duplicates().to_csv('../../03processed-data/CutDates/CuttingDate' + site + i + '.csv',index = False)"
   ]
  },
  {
   "cell_type": "markdown",
   "metadata": {},
   "source": [
    "### Observation dates \n",
    "\n",
    "**NOTE** Once off output - enable when necessary"
   ]
  },
  {
   "cell_type": "code",
   "execution_count": null,
   "metadata": {},
   "outputs": [],
   "source": [
    "# obs_DatesAD = LAI_Height.loc[LAI_Height['Experiment'] == 'AshleyDene', 'Clock.Today'].drop_duplicates()\n",
    "# obs_DatesAD.to_csv('./03processed-data/ObservationDatesAshleyDene.csv', index = False)\n",
    "# obs_DatesI12 = LAI_Height.loc[LAI_Height['Experiment'] != 'AshleyDene', 'Clock.Today'].drop_duplicates()\n",
    "# obs_DatesI12.to_csv('./03processed-data/ObservationDatesIversen12.csv', index = False)"
   ]
  },
  {
   "cell_type": "markdown",
   "metadata": {},
   "source": [
    "### Output LAI as the slurp input "
   ]
  },
  {
   "cell_type": "code",
   "execution_count": null,
   "metadata": {},
   "outputs": [],
   "source": [
    "SDs = ['SD' + str(SD) for SD in range(1, 11)]\n",
    "SDs\n",
    "sites = ['AshleyDene', 'Iversen12']\n",
    "for site in sites: \n",
    "    for i in SDs:\n",
    "        LAI_Height.loc[(LAI_Height['Experiment'] == site) & \n",
    "                       (LAI_Height.SowingDate == i), \n",
    "                       ['Clock.Today', 'LAImod','k']]. \\\n",
    "        to_csv('../../03processed-data/CoverData/LAI' + site + i + '.csv',index = False)"
   ]
  },
  {
   "cell_type": "code",
   "execution_count": null,
   "metadata": {},
   "outputs": [],
   "source": []
  },
  {
   "cell_type": "markdown",
   "metadata": {},
   "source": [
    "# Calculate $R/R_0$"
   ]
  },
  {
   "cell_type": "code",
   "execution_count": null,
   "metadata": {},
   "outputs": [],
   "source": [
    "LAI_Height['LI_frac'] = 1 - np.exp( - LAI_Height['k'] * LAI_Height['LAImod'])"
   ]
  },
  {
   "cell_type": "code",
   "execution_count": null,
   "metadata": {},
   "outputs": [],
   "source": [
    "# Check if any weired values. e.g. over 1 or below 0 \n",
    "grid = sns.FacetGrid(LAI_Height, col ='Experiment',\n",
    "                      hue=\"SowingDate\", palette=\"Set1\",aspect=2, sharex=False)\n",
    "grid.map(plt.scatter, 'Date', 'LI_frac')\n",
    "grid.set_xticklabels(rotation=45)\n",
    "grid.fig.tight_layout()"
   ]
  },
  {
   "cell_type": "code",
   "execution_count": null,
   "metadata": {},
   "outputs": [],
   "source": []
  },
  {
   "cell_type": "markdown",
   "metadata": {},
   "source": [
    "## Construct the index"
   ]
  },
  {
   "cell_type": "code",
   "execution_count": null,
   "metadata": {},
   "outputs": [],
   "source": [
    "# Select only LI column\n",
    "LI = LAI_Height.loc[:, ['Experiment', 'Clock.Today','SowingDate', \n",
    "                        'Rep', 'Plot', \n",
    "                        'LI_frac']]\n",
    "# print_full(LI)\n",
    "# remove the rows that have 0S - Likely to be wrong 0s\n",
    "# LI = LI[LI['LI_frac'] != 0.00]\n",
    "LI"
   ]
  },
  {
   "cell_type": "code",
   "execution_count": null,
   "metadata": {},
   "outputs": [],
   "source": [
    "LI[LI['SowingDate']=='SD5']"
   ]
  },
  {
   "cell_type": "code",
   "execution_count": null,
   "metadata": {},
   "outputs": [],
   "source": [
    "LI = LI.pivot_table(index = 'Clock.Today', \n",
    "                    columns=['Experiment', 'SowingDate', \n",
    "                             'Rep', 'Plot'],\n",
    "                    values = 'LI_frac')\n",
    "LI"
   ]
  },
  {
   "cell_type": "code",
   "execution_count": null,
   "metadata": {},
   "outputs": [],
   "source": [
    "# Check if the mean values capture all the harvest for SD5 \n",
    "# SD5 has extra measurments in plot 15, 21,53,71\n",
    "print_full(LI.filter(regex = 'SD5').groupby(axis = 1, level = ['Experiment','SowingDate']).mean())\n"
   ]
  },
  {
   "cell_type": "code",
   "execution_count": null,
   "metadata": {},
   "outputs": [],
   "source": [
    "# Change the index to datetime tyep\n",
    "LI.index = pd.to_datetime(LI.index)\n",
    "# Rename the index name \n",
    "LI.index.name = 'Clock.Today'\n",
    "# Normalise the datetime to midnight \n",
    "LI.index = LI.index.normalize()"
   ]
  },
  {
   "cell_type": "code",
   "execution_count": null,
   "metadata": {},
   "outputs": [],
   "source": [
    "# Check indexs\n",
    "LI.axes"
   ]
  },
  {
   "cell_type": "markdown",
   "metadata": {},
   "source": [
    "## Calcuate the mean LI_frac"
   ]
  },
  {
   "cell_type": "code",
   "execution_count": null,
   "metadata": {},
   "outputs": [],
   "source": [
    "LIGroupedMean = LI.groupby(axis=1, level=['Experiment', 'SowingDate']).mean()"
   ]
  },
  {
   "cell_type": "code",
   "execution_count": null,
   "metadata": {},
   "outputs": [],
   "source": [
    "LIGroupedMean"
   ]
  },
  {
   "cell_type": "code",
   "execution_count": null,
   "metadata": {},
   "outputs": [],
   "source": [
    "# Graph to check the data \n",
    "\n",
    "LIGroupedMean.loc[:,\n",
    "                  [X for X in LIGroupedMean.columns if 'SD5' in X]].plot(figsize=(10, 6),style='o-')\n"
   ]
  },
  {
   "cell_type": "code",
   "execution_count": null,
   "metadata": {},
   "outputs": [],
   "source": [
    "SDs = ['SD' + str(SD) for SD in range(1, 11)]\n",
    "for i in SDs:\n",
    "    LIGroupedMean.loc[:,\n",
    "                  [X for X in LIGroupedMean.columns if i in X]].plot(figsize=(10, 6),style='o-')"
   ]
  },
  {
   "cell_type": "markdown",
   "metadata": {},
   "source": [
    "# Met data to calculate thermal time "
   ]
  },
  {
   "cell_type": "code",
   "execution_count": null,
   "metadata": {},
   "outputs": [],
   "source": [
    "met_AD = met_AD.loc[:, ['year','day', 'maxt', 'mint','mean']]\n",
    "met_AD['Experiment'] = 'AshleyDene'\n",
    "met_I12 = met_I12.loc[(met_I12['year'] >= 2010)                       \n",
    "                      & (met_I12['year'] < 2013), ['year','day', 'maxt', 'mint','mean']]\n",
    "met_I12['Experiment'] = 'Iversen12'"
   ]
  },
  {
   "cell_type": "code",
   "execution_count": null,
   "metadata": {},
   "outputs": [],
   "source": [
    "met = pd.concat([met_AD, met_I12], ignore_index=True)"
   ]
  },
  {
   "cell_type": "code",
   "execution_count": null,
   "metadata": {},
   "outputs": [],
   "source": [
    "# Change 4 digits year to the first date of the year\n",
    "met['year'] = [str(year) + '-01-01' for year in met['year']]\n",
    "met['year'] = pd.to_datetime(met['year'])\n",
    "# Change the day to a delta days and add back to the year \n",
    "met['Clock.Today'] = met['year'] + pd.to_timedelta(met['day'], unit='D')"
   ]
  },
  {
   "cell_type": "code",
   "execution_count": null,
   "metadata": {},
   "outputs": [],
   "source": [
    "# Check if any weired values. \n",
    "grid = sns.FacetGrid(met, row ='Experiment',\n",
    "                     aspect=2, sharex=False)\n",
    "grid.map(plt.scatter, 'Clock.Today', 'mean')\n",
    "grid.set_xticklabels(rotation=45)\n",
    "grid.fig.tight_layout()"
   ]
  },
  {
   "cell_type": "markdown",
   "metadata": {},
   "source": [
    "#### Note:   \n",
    "1. The iversen 12 met has a long period of coverage.\n",
    "   Expt period: **October 2010 to July 2012.**\n",
    "   "
   ]
  },
  {
   "cell_type": "code",
   "execution_count": null,
   "metadata": {},
   "outputs": [],
   "source": [
    "met = met[(met['Clock.Today'] > '2010-06-01')\n",
    "          &(met['Clock.Today'] < '2012-08-01')]\n"
   ]
  },
  {
   "cell_type": "code",
   "execution_count": null,
   "metadata": {},
   "outputs": [],
   "source": [
    "# Verify the filter \n",
    "# Check if any weired values. \n",
    "grid = sns.FacetGrid(met, row ='Experiment',\n",
    "                     aspect=2, sharex=False)\n",
    "grid.map(plt.scatter, 'Clock.Today', 'mean')\n",
    "grid.set_xticklabels(rotation=45)\n",
    "grid.fig.tight_layout()"
   ]
  },
  {
   "cell_type": "code",
   "execution_count": null,
   "metadata": {},
   "outputs": [],
   "source": [
    "# indexing \n",
    "met.set_index('Clock.Today', inplace = True)"
   ]
  },
  {
   "cell_type": "code",
   "execution_count": null,
   "metadata": {},
   "outputs": [],
   "source": [
    "print_full(met)"
   ]
  },
  {
   "cell_type": "code",
   "execution_count": null,
   "metadata": {},
   "outputs": [],
   "source": [
    "# Try 2 sites the same time \n",
    "ThermalTimeAccum = met.loc[:, 'mean'].cumsum()\n",
    "ThermalTimeAccum.index = pd.to_datetime(ThermalTimeAccum.index)"
   ]
  },
  {
   "cell_type": "markdown",
   "metadata": {},
   "source": [
    "## Combine thermal time with cover data"
   ]
  },
  {
   "cell_type": "code",
   "execution_count": null,
   "metadata": {},
   "outputs": [],
   "source": [
    "#Reindex coverdata frame to daily values\n",
    "LIDaily = LI.reindex(ThermalTimeAccum.index)\n",
    "LIDaily.loc[:, 'AccumTT'] = ThermalTimeAccum\n",
    "# CoverDataDaily.loc[:,'AccumTT'] = ThermalTimeAccum"
   ]
  },
  {
   "cell_type": "code",
   "execution_count": null,
   "metadata": {},
   "outputs": [],
   "source": [
    "print_full(LIDaily.filter(regex='SD5'))"
   ]
  },
  {
   "cell_type": "markdown",
   "metadata": {},
   "source": [
    "## Interpolate daily values \n",
    "\n",
    "**Note**  \n",
    "The for loop below complains _ValueError: fp and xp are not of the same length._  \n",
    "\n",
    "This is probably because the LI is in a wide form \n",
    "But the thermal data is in a long form which includs two sites \n"
   ]
  },
  {
   "cell_type": "code",
   "execution_count": null,
   "metadata": {},
   "outputs": [],
   "source": [
    "# for p in LIDaily.columns:\n",
    "#     Obs = LIDaily.loc[:,p].dropna()\n",
    "#     LIDaily.loc[:,p] = np.interp(LIDaily.AccumTT, LIDaily.loc[Obs.index,'AccumTT'],Obs)"
   ]
  },
  {
   "cell_type": "markdown",
   "metadata": {},
   "source": [
    "## Process sites individually   \n",
    "\n",
    "Ashley Dene first"
   ]
  },
  {
   "cell_type": "code",
   "execution_count": null,
   "metadata": {},
   "outputs": [],
   "source": [
    "LIAD = LI.filter(regex = 'Ashley')\n",
    "#Reindex coverdata frame to daily values\n",
    "TTAccumAD = met.loc[met['Experiment'] == 'AshleyDene', 'mean'].cumsum()\n",
    "TTAccumAD.index = pd.to_datetime(TTAccumAD.index)\n",
    "\n",
    "LIDailyAD = LIAD.reindex(TTAccumAD.index)\n",
    "LIDailyAD.loc[:, 'AccumTT'] = TTAccumAD\n"
   ]
  },
  {
   "cell_type": "code",
   "execution_count": null,
   "metadata": {},
   "outputs": [],
   "source": [
    "LIDailyAD "
   ]
  },
  {
   "cell_type": "code",
   "execution_count": null,
   "metadata": {},
   "outputs": [],
   "source": [
    "## Disabled because not making sense to have a starting LI 0.3 over\n",
    "# for p in LIDailyAD.columns:\n",
    "#     Obs = LIDailyAD.loc[:,p].dropna()\n",
    "#     LIDailyAD.loc[:,p] = np.interp(LIDailyAD.AccumTT,\n",
    "#                                    LIDailyAD.loc[Obs.index,'AccumTT'],Obs)"
   ]
  },
  {
   "cell_type": "code",
   "execution_count": null,
   "metadata": {},
   "outputs": [],
   "source": [
    "LIDailyAD"
   ]
  },
  {
   "cell_type": "code",
   "execution_count": null,
   "metadata": {},
   "outputs": [],
   "source": [
    "LIGroupedMeanAD = LIDailyAD.groupby(axis=1, level=['Experiment', 'SowingDate']).mean()"
   ]
  },
  {
   "cell_type": "code",
   "execution_count": null,
   "metadata": {},
   "outputs": [],
   "source": [
    "LIGroupedMeanAD.columns"
   ]
  },
  {
   "cell_type": "code",
   "execution_count": null,
   "metadata": {},
   "outputs": [],
   "source": [
    "# Graph to check the data \n",
    "LIGroupedMeanAD.loc[:,\n",
    "                  [X for X in LIGroupedMeanAD.columns if X != (   'AccumTT',     '')]].plot(figsize=(10, 6),style='o-')"
   ]
  },
  {
   "cell_type": "markdown",
   "metadata": {},
   "source": [
    "#### Notes\n",
    "\n",
    "MAYBE the starting point need to be forced to be 0\n",
    "\n",
    "## Iversen12 LI interpolate"
   ]
  },
  {
   "cell_type": "code",
   "execution_count": null,
   "metadata": {},
   "outputs": [],
   "source": [
    "LII12 = LI.filter(regex = 'Ive')\n",
    "\n",
    "TTAccumI12 = met.loc[met['Experiment'] == 'Iversen12', 'mean'].cumsum()\n",
    "TTAccumI12.index = pd.to_datetime(TTAccumI12.index)\n",
    "LIDailyI12 = LII12.reindex(TTAccumI12.index)  #Reindex coverdata frame to daily values\n",
    "LIDailyI12.loc[:,'AccumTT'] = TTAccumI12\n",
    "# Disabled as well \n",
    "for p in LIDailyI12.columns:\n",
    "    Obs = LIDailyI12.loc[:,p].dropna()\n",
    "    LIDailyI12.loc[:,p] = np.interp(LIDailyI12.AccumTT,\n",
    "                                   LIDailyI12.loc[Obs.index,'AccumTT'],Obs)\n",
    "LIGroupedMeanI12 = LIDailyI12.groupby(axis=1, level=['Experiment', 'SowingDate']).mean()"
   ]
  },
  {
   "cell_type": "code",
   "execution_count": null,
   "metadata": {},
   "outputs": [],
   "source": [
    "LIGroupedMeanI12.columns"
   ]
  },
  {
   "cell_type": "code",
   "execution_count": null,
   "metadata": {},
   "outputs": [],
   "source": [
    "# Graph to check the data \n",
    "LIGroupedMeanI12.loc[:,\n",
    "                  [X for X in LIGroupedMeanI12.columns if X != (   'AccumTT',     '')]].plot(figsize=(10, 6),style='o-')"
   ]
  },
  {
   "cell_type": "markdown",
   "metadata": {},
   "source": [
    "# Force the starting point to be 0"
   ]
  },
  {
   "cell_type": "code",
   "execution_count": null,
   "metadata": {},
   "outputs": [],
   "source": [
    "sowingdates = pd.read_sql('Select * from SowingDates',  con)"
   ]
  },
  {
   "cell_type": "code",
   "execution_count": null,
   "metadata": {},
   "outputs": [],
   "source": [
    "sowingdates.AD = pd.to_datetime(sowingdates.AD)\n",
    "sowingdates.I12 = pd.to_datetime(sowingdates.I12)\n"
   ]
  },
  {
   "cell_type": "code",
   "execution_count": null,
   "metadata": {},
   "outputs": [],
   "source": [
    "# set index and rename columns \n",
    "sowingdates.set_index('SD', inplace=True)\n",
    "sowingdates.columns = ['AshleyDene', 'Iversen12']"
   ]
  },
  {
   "cell_type": "code",
   "execution_count": null,
   "metadata": {},
   "outputs": [],
   "source": [
    "sowingdates.loc\n",
    "LIDailyAD.axes"
   ]
  },
  {
   "cell_type": "code",
   "execution_count": null,
   "metadata": {},
   "outputs": [],
   "source": [
    "LIAD = LI.filter(regex = 'Ashley')\n",
    "#Reindex coverdata frame to daily values\n",
    "TTAccumAD = met.loc[met['Experiment'] == 'AshleyDene', 'mean'].cumsum()\n",
    "TTAccumAD.index = pd.to_datetime(TTAccumAD.index)\n",
    "\n",
    "LIDailyAD = LIAD.reindex(TTAccumAD.index)\n",
    "LIDailyAD.loc[:, 'AccumTT'] = TTAccumAD"
   ]
  },
  {
   "cell_type": "code",
   "execution_count": null,
   "metadata": {},
   "outputs": [],
   "source": [
    "idx = pd.IndexSlice\n",
    "LIDailyAD.loc[LIDailyAD.index == '2012-06-02', idx[:,'SD1']]"
   ]
  },
  {
   "cell_type": "code",
   "execution_count": null,
   "metadata": {},
   "outputs": [],
   "source": [
    "for sd in sowingdates.index:\n",
    "    # Select the date for correpond sowing date\n",
    "    date0 = sowingdates.at[sd, 'AshleyDene']\n",
    "    # A slicer\n",
    "    idx = pd.IndexSlice\n",
    "    # Replace the row values with 0s\n",
    "    LIDailyAD.loc[LIDailyAD.index <= date0, idx[:,sd]] = float(0.001)\n",
    "    # Verification \n",
    "    df = LIDailyAD.loc[LIDailyAD.index == date0, idx[:,sd]]\n",
    "    print('\\r')\n",
    "    print(date0)     \n",
    "    print(df)"
   ]
  },
  {
   "cell_type": "markdown",
   "metadata": {},
   "source": [
    "#### Note   \n",
    "There are still more than 4 plots for each sowing dates   \n",
    "Due to seed line and harvest.no.  \n",
    "The harvest.no **post** did not contribute to LAI. so should taken out.   \n",
    "The Thermaltime df has duplicated the index."
   ]
  },
  {
   "cell_type": "code",
   "execution_count": null,
   "metadata": {},
   "outputs": [],
   "source": [
    "LIDailyAD"
   ]
  },
  {
   "cell_type": "code",
   "execution_count": null,
   "metadata": {},
   "outputs": [],
   "source": [
    "for p in LIDailyAD.columns:\n",
    "    Obs = LIDailyAD.loc[:,p].dropna()\n",
    "    LIDailyAD.loc[:,p] = np.interp(LIDailyAD.AccumTT,\n",
    "                                   LIDailyAD.loc[Obs.index,'AccumTT'],Obs)"
   ]
  },
  {
   "cell_type": "code",
   "execution_count": null,
   "metadata": {},
   "outputs": [],
   "source": [
    "LIDailyAD"
   ]
  },
  {
   "cell_type": "code",
   "execution_count": null,
   "metadata": {},
   "outputs": [],
   "source": [
    "LIGroupedMeanADForced = LIDailyAD.groupby(axis=1, level=['Experiment', 'SowingDate']).mean()\n",
    "# Graph to check the data \n",
    "LIGroupedMeanADForced.loc[:,\n",
    "                          [X for X in LIGroupedMeanADForced.columns if X != (   'AccumTT',     '')]].plot(figsize=(10, 6),style='o-')\n",
    "\n",
    "plt.savefig('../../05figures/StartJune_AD.png', dpi = 300, bbox_inches = 'tight')"
   ]
  },
  {
   "cell_type": "markdown",
   "metadata": {},
   "source": [
    "#### Repeat for I12\n"
   ]
  },
  {
   "cell_type": "code",
   "execution_count": null,
   "metadata": {},
   "outputs": [],
   "source": [
    "LII12 = LI.filter(regex = 'Ive')\n",
    "\n",
    "TTAccumI12 = met.loc[met['Experiment'] == 'Iversen12', 'mean'].cumsum()\n",
    "TTAccumI12.index = pd.to_datetime(TTAccumI12.index)\n",
    "LIDailyI12 = LII12.reindex(TTAccumI12.index)  #Reindex coverdata frame to daily values\n",
    "LIDailyI12.loc[:,'AccumTT'] = TTAccumI12\n"
   ]
  },
  {
   "cell_type": "code",
   "execution_count": null,
   "metadata": {},
   "outputs": [],
   "source": [
    "LIDailyI12"
   ]
  },
  {
   "cell_type": "code",
   "execution_count": null,
   "metadata": {},
   "outputs": [],
   "source": [
    "for sd in sowingdates.index:\n",
    "    # Select the date for correpond sowing date\n",
    "    date0 = sowingdates.at[sd, 'Iversen12']\n",
    "    # A slicer\n",
    "    idx = pd.IndexSlice\n",
    "    # Replace the row values with 0s\n",
    "    LIDailyI12.loc[LIDailyI12.index <= date0, idx[:,sd]] = float(0.001)\n",
    "    # Verification \n",
    "    df = LIDailyI12.loc[LIDailyI12.index == date0, idx[:,sd]]\n",
    "    print('\\r')\n",
    "    print(date0)     \n",
    "    print(df)"
   ]
  },
  {
   "cell_type": "code",
   "execution_count": null,
   "metadata": {},
   "outputs": [],
   "source": [
    "# Interpolate LI daily value by thermal time \n",
    "for p in LIDailyI12.columns:\n",
    "    Obs = LIDailyI12.loc[:,p].dropna()\n",
    "    LIDailyI12.loc[:,p] = np.interp(LIDailyI12.AccumTT,\n",
    "                                   LIDailyI12.loc[Obs.index,'AccumTT'],Obs)\n"
   ]
  },
  {
   "cell_type": "code",
   "execution_count": null,
   "metadata": {},
   "outputs": [],
   "source": [
    "LIGroupedMeanI12Forced = LIDailyI12.groupby(axis=1, level=['Experiment', 'SowingDate']).mean()"
   ]
  },
  {
   "cell_type": "code",
   "execution_count": null,
   "metadata": {},
   "outputs": [],
   "source": [
    "# Graph to check the data \n",
    "LIGroupedMeanI12Forced.loc[:,\n",
    "                           [X for X in LIGroupedMeanI12Forced.columns \\\n",
    "                            if X != (   'AccumTT',     '')]].plot(figsize=(10, 6),style='o-')"
   ]
  },
  {
   "cell_type": "code",
   "execution_count": null,
   "metadata": {},
   "outputs": [],
   "source": [
    "LIGroupedMeanI12Forced"
   ]
  },
  {
   "cell_type": "code",
   "execution_count": null,
   "metadata": {},
   "outputs": [],
   "source": [
    "LIGroupedMeanADForced"
   ]
  },
  {
   "cell_type": "markdown",
   "metadata": {},
   "source": [
    "# Does it make difference by changing the period of met data?"
   ]
  },
  {
   "cell_type": "code",
   "execution_count": null,
   "metadata": {},
   "outputs": [],
   "source": [
    "sowingdates"
   ]
  },
  {
   "cell_type": "code",
   "execution_count": null,
   "metadata": {},
   "outputs": [],
   "source": [
    "LIAD = LI.filter(regex = 'Ashley')\n",
    "#Reindex coverdata frame to daily values\n",
    "TTAccumAD = met.loc[(met['Experiment'] == 'AshleyDene')\n",
    "                    & (met.index > '2010-10-20'), 'mean'].cumsum()\n",
    "TTAccumAD.index = pd.to_datetime(TTAccumAD.index)\n",
    "\n",
    "LIDailyAD = LIAD.reindex(TTAccumAD.index)\n",
    "LIDailyAD.loc[:, 'AccumTT'] = TTAccumAD\n"
   ]
  },
  {
   "cell_type": "code",
   "execution_count": null,
   "metadata": {},
   "outputs": [],
   "source": [
    "for sd in sowingdates.index:\n",
    "    # Select the date for correpond sowing date\n",
    "    date0 = sowingdates.at[sd, 'AshleyDene']\n",
    "    # A slicer\n",
    "    idx = pd.IndexSlice\n",
    "    # Replace the row values with 0s\n",
    "    LIDailyAD.loc[LIDailyAD.index <= date0, idx[:,sd]] = float(0.001)\n",
    "    # Verification \n",
    "    df = LIDailyAD.loc[LIDailyAD.index == date0, idx[:,sd]]\n",
    "for p in LIDailyAD.columns:\n",
    "    Obs = LIDailyAD.loc[:,p].dropna()\n",
    "    LIDailyAD.loc[:,p] = np.interp(LIDailyAD.AccumTT,\n",
    "                                   LIDailyAD.loc[Obs.index,'AccumTT'],Obs)"
   ]
  },
  {
   "cell_type": "code",
   "execution_count": null,
   "metadata": {},
   "outputs": [],
   "source": [
    "LIGroupedMeanADForced = LIDailyAD.groupby(axis=1, level=['Experiment', 'SowingDate']).mean()\n",
    "# Graph to check the data \n",
    "LIGroupedMeanADForced.loc[:,\n",
    "                          [X for X in LIGroupedMeanADForced.columns \\\n",
    "                           if X != (   'AccumTT',     '')]].plot(figsize=(10, 6),style='o-')\n",
    "plt.savefig('../../05figures/StartSD1_AD.png', dpi = 300, bbox_inches = 'tight')"
   ]
  },
  {
   "cell_type": "code",
   "execution_count": null,
   "metadata": {},
   "outputs": [],
   "source": [
    "LII12 = LI.filter(regex = 'Iver')\n",
    "#Reindex coverdata frame to daily values\n",
    "TTAccumI12 = met.loc[(met['Experiment'] == 'Iversen12')\n",
    "                    & (met.index > '2010-10-03'), 'mean'].cumsum()\n",
    "TTAccumI12.index = pd.to_datetime(TTAccumI12.index)\n",
    "\n",
    "LIDailyI12 = LII12.reindex(TTAccumI12.index)\n",
    "LIDailyI12.loc[:, 'AccumTT'] = TTAccumI12\n",
    "for sd in sowingdates.index:\n",
    "    # Select the date for correpond sowing date\n",
    "    date0 = sowingdates.at[sd, 'Iversen12']\n",
    "    print(date0)\n",
    "    # A slicer\n",
    "    idx = pd.IndexSlice\n",
    "    # Replace the row values with 0s\n",
    "    LIDailyI12.loc[LIDailyI12.index <= date0, idx[:,sd]] = float(0.001)\n",
    "#     # Verification \n",
    "    df = LIDailyI12.loc[LIDailyI12.index == date0, idx[:,sd]]\n",
    "#     print(df)\n",
    "for p in LIDailyI12.columns:\n",
    "    Obs = LIDailyI12.loc[:,p].dropna()\n",
    "    LIDailyI12.loc[:,p] = np.interp(LIDailyI12.AccumTT,\n",
    "                                   LIDailyI12.loc[Obs.index,'AccumTT'],Obs)"
   ]
  },
  {
   "cell_type": "code",
   "execution_count": null,
   "metadata": {},
   "outputs": [],
   "source": [
    "LIGroupedMeanI12Forced = LIDailyI12.groupby(axis=1, level=['Experiment', 'SowingDate']).mean()\n",
    "# Graph to check the data \n",
    "LIGroupedMeanI12Forced.loc[:,\n",
    "                              [X for X in LIGroupedMeanI12Forced.columns if X != (   'AccumTT',     '')]].plot(figsize=(10, 6),style='o-')\n",
    "plt.savefig('../../05figures/StartSD1_I12.png', dpi = 300, bbox_inches = 'tight')"
   ]
  },
  {
   "cell_type": "code",
   "execution_count": null,
   "metadata": {},
   "outputs": [],
   "source": [
    "sowingdates"
   ]
  },
  {
   "cell_type": "markdown",
   "metadata": {},
   "source": [
    "#### Seems no difference\n"
   ]
  },
  {
   "cell_type": "markdown",
   "metadata": {},
   "source": [
    "# Output the LI DAILY"
   ]
  },
  {
   "cell_type": "code",
   "execution_count": null,
   "metadata": {},
   "outputs": [],
   "source": [
    "# Reset the index back to a column\n",
    "LIGroupedMeanADForced.columns"
   ]
  },
  {
   "cell_type": "code",
   "execution_count": null,
   "metadata": {},
   "outputs": [],
   "source": [
    "CoverDF = LIGroupedMeanADForced.drop('AccumTT', axis=1, level=0).stack([0,1]).reset_index()"
   ]
  },
  {
   "cell_type": "code",
   "execution_count": null,
   "metadata": {},
   "outputs": [],
   "source": [
    "CoverDF.columns = ['Date', 'Experiment', 'SowingDate', 'LightInterception']\n",
    "CoverDF"
   ]
  },
  {
   "cell_type": "code",
   "execution_count": null,
   "metadata": {},
   "outputs": [],
   "source": [
    "# Test\n",
    "CoverDF.loc[CoverDF.SowingDate == 'SD1', ['Date', 'LightInterception']].\\\n",
    "to_csv('../../03processed-data/CoverData/CoverDataSD1.csv',index = False)"
   ]
  },
  {
   "cell_type": "code",
   "execution_count": null,
   "metadata": {},
   "outputs": [],
   "source": [
    "# SDs = ['SD' + str(SD) for SD in range(1, 11)]\n",
    "# SDs\n",
    "# for i in SDs:\n",
    "#     CoverDF.loc[CoverDF.SowingDate == i,\n",
    "#                 ['Date', 'LightInterception']].to_csv('./03processed-data/CoverData/CoverDataAshleyDene' + i + '.csv',index = False)"
   ]
  },
  {
   "cell_type": "code",
   "execution_count": null,
   "metadata": {},
   "outputs": [],
   "source": [
    "# Iversen12\n",
    "# The sowing dates needs to be cut off to the right one "
   ]
  },
  {
   "cell_type": "code",
   "execution_count": null,
   "metadata": {},
   "outputs": [],
   "source": [
    "CoverDFI12 = LIGroupedMeanI12Forced.drop('AccumTT', axis=1, level=0).stack([0,1]).reset_index()"
   ]
  },
  {
   "cell_type": "code",
   "execution_count": null,
   "metadata": {},
   "outputs": [],
   "source": [
    "CoverDFI12.columns = ['Date', 'Experiment', 'SowingDate', 'LightInterception']\n",
    "SDs = ['SD' + str(SD) for SD in range(1, 11)]\n",
    "SDs\n",
    "for i in SDs:\n",
    "    CoverDFI12.loc[CoverDFI12['SowingDate'] == i, \n",
    "                   ['Date', 'LightInterception']].to_csv('../../03processed-data/CoverData/CoverDataIversen12' + i + '.csv',\n",
    "                                                 index = False)"
   ]
  },
  {
   "cell_type": "markdown",
   "metadata": {},
   "source": [
    "# Out put k value with light interception for Ashley Dene"
   ]
  },
  {
   "cell_type": "code",
   "execution_count": null,
   "metadata": {},
   "outputs": [],
   "source": [
    "CoverDFI12"
   ]
  },
  {
   "cell_type": "code",
   "execution_count": null,
   "metadata": {},
   "outputs": [],
   "source": [
    "CoverDF = pd.concat([CoverDF,CoverDFI12], axis=0)"
   ]
  },
  {
   "cell_type": "code",
   "execution_count": null,
   "metadata": {},
   "outputs": [],
   "source": [
    "# Add the k for all \n",
    "CoverDF['k'] = 0.94\n",
    "# Replace the k for the summur crop in Ashley Dene\n",
    "# CoverDF.loc[(CoverDF['Date'] > '2011-11-30') \n",
    "#                & (CoverDF['Date'] < '2012-03-01') \n",
    "#                & (CoverDF['Experiment'] == 'AshleyDene'), 'k'] = 0.66"
   ]
  },
  {
   "cell_type": "code",
   "execution_count": null,
   "metadata": {},
   "outputs": [],
   "source": [
    "CoverDF"
   ]
  },
  {
   "cell_type": "code",
   "execution_count": null,
   "metadata": {},
   "outputs": [],
   "source": [
    "SDs = ['SD' + str(SD) for SD in range(1, 11)]\n",
    "SDs\n",
    "for i in sites:\n",
    "    for j in SDs:\n",
    "        CoverDF.loc[(CoverDF['SowingDate'] == j) \n",
    "                    & (CoverDF['Experiment'] == i),\n",
    "                    ['Date', 'LightInterception','k']]. \\\n",
    "        to_csv('../../03processed-data/CoverData/CoverData' + i + j + '.csv',index = False)"
   ]
  },
  {
   "cell_type": "code",
   "execution_count": null,
   "metadata": {},
   "outputs": [],
   "source": [
    "sites"
   ]
  },
  {
   "cell_type": "code",
   "execution_count": null,
   "metadata": {},
   "outputs": [],
   "source": [
    "LAI_Height.loc[LAI_Height['Experiment'] == 'AshleyDene', 'Height'].max()\n",
    "LAI_Height.loc[LAI_Height['Experiment'] != 'AshleyDene', 'Height'].max()"
   ]
  },
  {
   "cell_type": "markdown",
   "metadata": {},
   "source": [
    "#### Max height was _390 mm_ when the crop had full cover in AD\n",
    "#### Max height was _595 mm_ when the crop had full cover in I12"
   ]
  },
  {
   "cell_type": "code",
   "execution_count": null,
   "metadata": {},
   "outputs": [],
   "source": [
    "LAI_Height.loc[(LAI_Height['Experiment'] == 'AshleyDene')\n",
    "               &(LAI_Height['Height'] > 38), :]\n",
    "LAI_Height.loc[(LAI_Height['Experiment'] != 'AshleyDene')\n",
    "               &(LAI_Height['Height'] > 58), :]"
   ]
  }
 ],
 "metadata": {
  "jupytext": {
   "formats": "ipynb,Rmd"
  },
  "kernelspec": {
   "display_name": "Python 3",
   "language": "python",
   "name": "python3"
  },
  "language_info": {
   "codemirror_mode": {
    "name": "ipython",
    "version": 3
   },
   "file_extension": ".py",
   "mimetype": "text/x-python",
   "name": "python",
   "nbconvert_exporter": "python",
   "pygments_lexer": "ipython3",
   "version": "3.7.7"
  }
 },
 "nbformat": 4,
 "nbformat_minor": 2
}
