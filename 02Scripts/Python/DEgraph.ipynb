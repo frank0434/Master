{
 "cells": [
  {
   "cell_type": "code",
   "execution_count": 5,
   "metadata": {},
   "outputs": [],
   "source": [
    "%matplotlib inline\n",
    "\n",
    "# Load local version of yabox\n",
    "import sys\n",
    "sys.path.insert(0, '../')\n",
    "\n",
    "from yabox import DE, PDE\n",
    "import numpy as np\n",
    "\n",
    "# Imports required for 3d animations\n",
    "import matplotlib\n",
    "import matplotlib.pyplot as plt\n",
    "from matplotlib import cm\n",
    "from mpl_toolkits.mplot3d import Axes3D\n",
    "from matplotlib import animation, rcParams\n",
    "from IPython.display import HTML"
   ]
  },
  {
   "cell_type": "code",
   "execution_count": 6,
   "metadata": {},
   "outputs": [],
   "source": [
    "\n",
    "# There is a bug in matplotlib that prevents the use of ffmpeg and avconv!\n",
    "# https://github.com/matplotlib/matplotlib/pull/8743\n",
    "\n",
    "avail_writers = matplotlib.animation.writers.list()\n",
    "    \n",
    "# Functions to generate 3d animations\n",
    "\n",
    "def display_animation(anim):\n",
    "    plt.close(anim._fig)\n",
    "    return HTML(anim.to_html5_video())\n",
    "\n",
    "\n",
    "def generate_video(problem, algorithm, figsize=(12, 8), frames=100, interval=100):\n",
    "    # Try to use tqdm to show progress\n",
    "    use_tqdm = True\n",
    "    try:\n",
    "        from tqdm.auto import tqdm\n",
    "    except:\n",
    "        use_tqdm = False\n",
    "    \n",
    "    figure = plt.figure(figsize=figsize)\n",
    "    ax = Axes3D(figure)\n",
    "    problem.plot3d(ax3d=ax)\n",
    "    minz = min(ax.get_zlim())\n",
    "    it = algorithm.geniterator()\n",
    "    if use_tqdm:\n",
    "        it = iter(tqdm(it, total=frames))\n",
    "\n",
    "    def animate(i):\n",
    "        ax.clear()\n",
    "        ax.autoscale(enable=False)\n",
    "        problem.plot3d(ax3d=ax)\n",
    "        status = next(it)\n",
    "        population = status.population\n",
    "        P = algorithm.denormalize(population)\n",
    "        fitness = status.fitness\n",
    "        idx = status.best_idx\n",
    "        PT = P.T\n",
    "        # Individuals\n",
    "        ax.scatter(PT[0], PT[1], fitness, s=100, c='#930039', marker='o', depthshade=False, zorder=999)\n",
    "        # Shadow projections\n",
    "        ax.scatter(PT[0], PT[1], np.full_like(PT[0], minz), alpha=0.5, s=150, c='black', marker='o', \n",
    "                   edgecolors='none', depthshade=False, zorder=999)\n",
    "        \n",
    "    anim = animation.FuncAnimation(figure, animate, frames=frames, interval=interval, blit=False)\n",
    "    return anim"
   ]
  },
  {
   "cell_type": "code",
   "execution_count": 9,
   "metadata": {},
   "outputs": [
    {
     "data": {
      "text/plain": [
       "Ackley 2D"
      ]
     },
     "execution_count": 9,
     "metadata": {},
     "output_type": "execute_result"
    }
   ],
   "source": [
    "from yabox.problems import Ackley, Levy\n",
    "problem = Ackley()\n",
    "problem"
   ]
  },
  {
   "cell_type": "code",
   "execution_count": 10,
   "metadata": {},
   "outputs": [
    {
     "data": {
      "application/vnd.jupyter.widget-view+json": {
       "model_id": "0c1e09b180fe4f25b5dc899b9eee0956",
       "version_major": 2,
       "version_minor": 0
      },
      "text/plain": [
       "HBox(children=(FloatProgress(value=0.0), HTML(value='')))"
      ]
     },
     "metadata": {},
     "output_type": "display_data"
    },
    {
     "name": "stdout",
     "output_type": "stream",
     "text": [
      "\n"
     ]
    },
    {
     "data": {
      "text/html": [
       "<video width=\"864\" height=\"576\" controls autoplay loop>\n",
       "  <source type=\"video/mp4\" src=\"data:video/mp4;base64,AAAAIGZ0eXBNNFYgAAACAE00ViBpc29taXNvMmF2YzEAAAAIZnJlZQAADtVtZGF0AAACoQYF//+d\n",
       "3EXpvebZSLeWLNgg2SPu73gyNjQgLSBjb3JlIDE2MSAtIEguMjY0L01QRUctNCBBVkMgY29kZWMg\n",
       "LSBDb3B5bGVmdCAyMDAzLTIwMjAgLSBodHRwOi8vd3d3LnZpZGVvbGFuLm9yZy94MjY0Lmh0bWwg\n",
       "LSBvcHRpb25zOiBjYWJhYz0xIHJlZj0zIGRlYmxvY2s9MTowOjAgYW5hbHlzZT0weDM6MHgxMTMg\n",
       "bWU9aGV4IHN1Ym1lPTcgcHN5PTEgcHN5X3JkPTEuMDA6MC4wMCBtaXhlZF9yZWY9MSBtZV9yYW5n\n",
       "ZT0xNiBjaHJvbWFfbWU9MSB0cmVsbGlzPTEgOHg4ZGN0PTEgY3FtPTAgZGVhZHpvbmU9MjEsMTEg\n",
       "ZmFzdF9wc2tpcD0xIGNocm9tYV9xcF9vZmZzZXQ9LTIgdGhyZWFkcz0xMiBsb29rYWhlYWRfdGhy\n",
       "ZWFkcz0yIHNsaWNlZF90aHJlYWRzPTAgbnI9MCBkZWNpbWF0ZT0xIGludGVybGFjZWQ9MCBibHVy\n",
       "YXlfY29tcGF0PTAgY29uc3RyYWluZWRfaW50cmE9MCBiZnJhbWVzPTMgYl9weXJhbWlkPTIgYl9h\n",
       "ZGFwdD0xIGJfYmlhcz0wIGRpcmVjdD0xIHdlaWdodGI9MSBvcGVuX2dvcD0wIHdlaWdodHA9MiBr\n",
       "ZXlpbnQ9MjUwIGtleWludF9taW49MTAgc2NlbmVjdXQ9NDAgaW50cmFfcmVmcmVzaD0wIHJjX2xv\n",
       "b2thaGVhZD00MCByYz1jcmYgbWJ0cmVlPTEgY3JmPTIzLjAgcWNvbXA9MC42MCBxcG1pbj0wIHFw\n",
       "bWF4PTY5IHFwc3RlcD00IGlwX3JhdGlvPTEuNDAgYXE9MToxLjAwAIAAAAFvZYiEADv//vBuvgU1\n",
       "799K0WrcHnc/Ubjf+qWhx0J8FdqiEeKyJGB4QZrRgAAAAwAAAwAAAwAFRsnfz6JToqr6oTDm5TA/\n",
       "GexCiQbzUAAAAwAACQ3uIbF5V/xGtBOfMjjON6gPaw5GJQ/0bZiGcgYeYlfWBYvgZZAGSlqIiMKL\n",
       "cHpTAl2o3InvnA9RXzsDQKCxb4QQ8+r10oJR/seG/Z4KAwn3m4ffr3/w0ADHr799HAVzwIAI5TXY\n",
       "K+e3EAqS6ktedJMO/jKbUsDPUAXTRh3CY2ADuocqNNn/Bz9EAAADAAADANeMHU+GSmlFIADdqRfe\n",
       "OegChaJAKBRoAVULqU+qjbor5VjczjCrgBwK27lFzx05gwAsRFOrIedgDllk3GaJCItACzpjKi5t\n",
       "DovQAjlA5FhVN0AjVR9RjhzVAKxDqrG2QaAOksAAABkGx3K+iCvOAFRrbPwYawBKOKXiIqZhJABg\n",
       "RAFiVwFkSq+gAAAh4QAAABhBmiRsQ7/+qZYAAAMAAAMAAAMAAAMAA8IAAAAVQZ5CeIV/AAADAAAD\n",
       "AAADAAADAAYtAAAAFQGeYXRCfwAAAwAAAwAAAwAAAwAHzAAAABUBnmNqQn8AAAMAAAMAAAMAAAMA\n",
       "B80AAAAeQZpoSahBaJlMCHf//qmWAAADAAADAAADAAADAAPDAAAAF0GehkURLCv/AAADAAADAAAD\n",
       "AAADAAYtAAAAFQGepXRCfwAAAwAAAwAAAwAAAwAHzQAAABUBnqdqQn8AAAMAAAMAAAMAAAMAB8wA\n",
       "AAAeQZqsSahBbJlMCHf//qmWAAADAAADAAADAAADAAPCAAAAF0GeykUVLCv/AAADAAADAAADAAAD\n",
       "AAYtAAAAFQGe6XRCfwAAAwAAAwAAAwAAAwAHzAAAABUBnutqQn8AAAMAAAMAAAMAAAMAB8wAAAAe\n",
       "QZrwSahBbJlMCHf//qmWAAADAAADAAADAAADAAPDAAAAF0GfDkUVLCv/AAADAAADAAADAAADAAYt\n",
       "AAAAFQGfLXRCfwAAAwAAAwAAAwAAAwAHzQAAABUBny9qQn8AAAMAAAMAAAMAAAMAB8wAAAAeQZs0\n",
       "SahBbJlMCHf//qmWAAADAAADAAADAAADAAPCAAAAF0GfUkUVLCv/AAADAAADAAADAAADAAYtAAAA\n",
       "FQGfcXRCfwAAAwAAAwAAAwAAAwAHzAAAABUBn3NqQn8AAAMAAAMAAAMAAAMAB8wAAAAeQZt4SahB\n",
       "bJlMCHf//qmWAAADAAADAAADAAADAAPDAAAAF0GflkUVLCv/AAADAAADAAADAAADAAYsAAAAFQGf\n",
       "tXRCfwAAAwAAAwAAAwAAAwAHzQAAABUBn7dqQn8AAAMAAAMAAAMAAAMAB80AAAAeQZu8SahBbJlM\n",
       "CHf//qmWAAADAAADAAADAAADAAPCAAAAF0Gf2kUVLCv/AAADAAADAAADAAADAAYtAAAAFQGf+XRC\n",
       "fwAAAwAAAwAAAwAAAwAHzAAAABUBn/tqQn8AAAMAAAMAAAMAAAMAB80AAAAeQZvgSahBbJlMCHf/\n",
       "/qmWAAADAAADAAADAAADAAPDAAAAF0GeHkUVLCv/AAADAAADAAADAAADAAYsAAAAFQGePXRCfwAA\n",
       "AwAAAwAAAwAAAwAHzAAAABUBnj9qQn8AAAMAAAMAAAMAAAMAB80AAAAeQZokSahBbJlMCHf//qmW\n",
       "AAADAAADAAADAAADAAPCAAAAF0GeQkUVLCv/AAADAAADAAADAAADAAYtAAAAFQGeYXRCfwAAAwAA\n",
       "AwAAAwAAAwAHzAAAABUBnmNqQn8AAAMAAAMAAAMAAAMAB80AAAAeQZpoSahBbJlMCHf//qmWAAAD\n",
       "AAADAAADAAADAAPDAAAAF0GehkUVLCv/AAADAAADAAADAAADAAYtAAAAFQGepXRCfwAAAwAAAwAA\n",
       "AwAAAwAHzQAAABUBnqdqQn8AAAMAAAMAAAMAAAMAB8wAAAAeQZqsSahBbJlMCHf//qmWAAADAAAD\n",
       "AAADAAADAAPCAAAAF0GeykUVLCv/AAADAAADAAADAAADAAYtAAAAFQGe6XRCfwAAAwAAAwAAAwAA\n",
       "AwAHzAAAABUBnutqQn8AAAMAAAMAAAMAAAMAB8wAAAAeQZrwSahBbJlMCHf//qmWAAADAAADAAAD\n",
       "AAADAAPDAAAAF0GfDkUVLCv/AAADAAADAAADAAADAAYtAAAAFQGfLXRCfwAAAwAAAwAAAwAAAwAH\n",
       "zQAAABUBny9qQn8AAAMAAAMAAAMAAAMAB8wAAAAeQZs0SahBbJlMCHf//qmWAAADAAADAAADAAAD\n",
       "AAPCAAAAF0GfUkUVLCv/AAADAAADAAADAAADAAYtAAAAFQGfcXRCfwAAAwAAAwAAAwAAAwAHzAAA\n",
       "ABUBn3NqQn8AAAMAAAMAAAMAAAMAB8wAAAAeQZt4SahBbJlMCHf//qmWAAADAAADAAADAAADAAPD\n",
       "AAAAF0GflkUVLCv/AAADAAADAAADAAADAAYsAAAAFQGftXRCfwAAAwAAAwAAAwAAAwAHzQAAABUB\n",
       "n7dqQn8AAAMAAAMAAAMAAAMAB80AAAAeQZu8SahBbJlMCHf//qmWAAADAAADAAADAAADAAPCAAAA\n",
       "F0Gf2kUVLCv/AAADAAADAAADAAADAAYtAAAAFQGf+XRCfwAAAwAAAwAAAwAAAwAHzAAAABUBn/tq\n",
       "Qn8AAAMAAAMAAAMAAAMAB80AAAAeQZvgSahBbJlMCHf//qmWAAADAAADAAADAAADAAPDAAAAF0Ge\n",
       "HkUVLCv/AAADAAADAAADAAADAAYsAAAAFQGePXRCfwAAAwAAAwAAAwAAAwAHzAAAABUBnj9qQn8A\n",
       "AAMAAAMAAAMAAAMAB80AAAAeQZokSahBbJlMCHf//qmWAAADAAADAAADAAADAAPCAAAAF0GeQkUV\n",
       "LCv/AAADAAADAAADAAADAAYtAAAAFQGeYXRCfwAAAwAAAwAAAwAAAwAHzAAAABUBnmNqQn8AAAMA\n",
       "AAMAAAMAAAMAB80AAAAeQZpoSahBbJlMCHf//qmWAAADAAADAAADAAADAAPDAAAAF0GehkUVLCv/\n",
       "AAADAAADAAADAAADAAYtAAAAFQGepXRCfwAAAwAAAwAAAwAAAwAHzQAAABUBnqdqQn8AAAMAAAMA\n",
       "AAMAAAMAB8wAAAAeQZqsSahBbJlMCHf//qmWAAADAAADAAADAAADAAPCAAAAF0GeykUVLCv/AAAD\n",
       "AAADAAADAAADAAYtAAAAFQGe6XRCfwAAAwAAAwAAAwAAAwAHzAAAABUBnutqQn8AAAMAAAMAAAMA\n",
       "AAMAB8wAAAAeQZrwSahBbJlMCHf//qmWAAADAAADAAADAAADAAPDAAAAF0GfDkUVLCv/AAADAAAD\n",
       "AAADAAADAAYtAAAAFQGfLXRCfwAAAwAAAwAAAwAAAwAHzQAAABUBny9qQn8AAAMAAAMAAAMAAAMA\n",
       "B8wAAAAeQZs0SahBbJlMCG///qeEAAADAAADAAADAAADAAd0AAAAF0GfUkUVLCv/AAADAAADAAAD\n",
       "AAADAAYtAAAAFQGfcXRCfwAAAwAAAwAAAwAAAwAHzAAAABUBn3NqQn8AAAMAAAMAAAMAAAMAB8wA\n",
       "AAAeQZt4SahBbJlMCG///qeEAAADAAADAAADAAADAAd1AAAAF0GflkUVLCv/AAADAAADAAADAAAD\n",
       "AAYsAAAAFQGftXRCfwAAAwAAAwAAAwAAAwAHzQAAABUBn7dqQn8AAAMAAAMAAAMAAAMAB80AAAAe\n",
       "QZu8SahBbJlMCG///qeEAAADAAADAAADAAADAAd0AAAAF0Gf2kUVLCv/AAADAAADAAADAAADAAYt\n",
       "AAAAFQGf+XRCfwAAAwAAAwAAAwAAAwAHzAAAABUBn/tqQn8AAAMAAAMAAAMAAAMAB80AAAAeQZvg\n",
       "SahBbJlMCF///oywAAADAAADAAADAAADAB1RAAAAF0GeHkUVLCv/AAADAAADAAADAAADAAYsAAAA\n",
       "FQGePXRCfwAAAwAAAwAAAwAAAwAHzAAAABUBnj9qQn8AAAMAAAMAAAMAAAMAB80AAAAdQZojSahB\n",
       "bJlMCE///fEAAAMAAAMAAAMAAAMAARcAAAAXQZ5BRRUsK/8AAAMAAAMAAAMAAAMABi0AAAAVAZ5i\n",
       "akJ/AAADAAADAAADAAADAAfMAAAH2m1vb3YAAABsbXZoZAAAAAAAAAAAAAAAAAAAA+gAACcQAAEA\n",
       "AAEAAAAAAAAAAAAAAAABAAAAAAAAAAAAAAAAAAAAAQAAAAAAAAAAAAAAAAAAQAAAAAAAAAAAAAAA\n",
       "AAAAAAAAAAAAAAAAAAAAAAAAAAIAAAcEdHJhawAAAFx0a2hkAAAAAwAAAAAAAAAAAAAAAQAAAAAA\n",
       "ACcQAAAAAAAAAAAAAAAAAAAAAAABAAAAAAAAAAAAAAAAAAAAAQAAAAAAAAAAAAAAAAAAQAAAAANg\n",
       "AAACQAAAAAAAJGVkdHMAAAAcZWxzdAAAAAAAAAABAAAnEAAACAAAAQAAAAAGfG1kaWEAAAAgbWRo\n",
       "ZAAAAAAAAAAAAAAAAAAAKAAAAZAAVcQAAAAAAC1oZGxyAAAAAAAAAAB2aWRlAAAAAAAAAAAAAAAA\n",
       "VmlkZW9IYW5kbGVyAAAABidtaW5mAAAAFHZtaGQAAAABAAAAAAAAAAAAAAAkZGluZgAAABxkcmVm\n",
       "AAAAAAAAAAEAAAAMdXJsIAAAAAEAAAXnc3RibAAAALdzdHNkAAAAAAAAAAEAAACnYXZjMQAAAAAA\n",
       "AAABAAAAAAAAAAAAAAAAAAAAAANgAkAASAAAAEgAAAAAAAAAAQAAAAAAAAAAAAAAAAAAAAAAAAAA\n",
       "AAAAAAAAAAAAAAAAABj//wAAADVhdmNDAWQAH//hABhnZAAfrNlA2BJoQAAAAwBAAAAFA8YMZYAB\n",
       "AAZo6+PLIsD9+PgAAAAAHHV1aWRraEDyXyRPxbo5pRvPAyPzAAAAAAAAABhzdHRzAAAAAAAAAAEA\n",
       "AABkAAAEAAAAABRzdHNzAAAAAAAAAAEAAAABAAADKGN0dHMAAAAAAAAAYwAAAAEAAAgAAAAAAQAA\n",
       "FAAAAAABAAAIAAAAAAEAAAAAAAAAAQAABAAAAAABAAAUAAAAAAEAAAgAAAAAAQAAAAAAAAABAAAE\n",
       "AAAAAAEAABQAAAAAAQAACAAAAAABAAAAAAAAAAEAAAQAAAAAAQAAFAAAAAABAAAIAAAAAAEAAAAA\n",
       "AAAAAQAABAAAAAABAAAUAAAAAAEAAAgAAAAAAQAAAAAAAAABAAAEAAAAAAEAABQAAAAAAQAACAAA\n",
       "AAABAAAAAAAAAAEAAAQAAAAAAQAAFAAAAAABAAAIAAAAAAEAAAAAAAAAAQAABAAAAAABAAAUAAAA\n",
       "AAEAAAgAAAAAAQAAAAAAAAABAAAEAAAAAAEAABQAAAAAAQAACAAAAAABAAAAAAAAAAEAAAQAAAAA\n",
       "AQAAFAAAAAABAAAIAAAAAAEAAAAAAAAAAQAABAAAAAABAAAUAAAAAAEAAAgAAAAAAQAAAAAAAAAB\n",
       "AAAEAAAAAAEAABQAAAAAAQAACAAAAAABAAAAAAAAAAEAAAQAAAAAAQAAFAAAAAABAAAIAAAAAAEA\n",
       "AAAAAAAAAQAABAAAAAABAAAUAAAAAAEAAAgAAAAAAQAAAAAAAAABAAAEAAAAAAEAABQAAAAAAQAA\n",
       "CAAAAAABAAAAAAAAAAEAAAQAAAAAAQAAFAAAAAABAAAIAAAAAAEAAAAAAAAAAQAABAAAAAABAAAU\n",
       "AAAAAAEAAAgAAAAAAQAAAAAAAAABAAAEAAAAAAEAABQAAAAAAQAACAAAAAABAAAAAAAAAAEAAAQA\n",
       "AAAAAQAAFAAAAAABAAAIAAAAAAEAAAAAAAAAAQAABAAAAAABAAAUAAAAAAEAAAgAAAAAAQAAAAAA\n",
       "AAABAAAEAAAAAAEAABQAAAAAAQAACAAAAAABAAAAAAAAAAEAAAQAAAAAAQAAFAAAAAABAAAIAAAA\n",
       "AAEAAAAAAAAAAQAABAAAAAABAAAUAAAAAAEAAAgAAAAAAQAAAAAAAAABAAAEAAAAAAEAABQAAAAA\n",
       "AQAACAAAAAABAAAAAAAAAAEAAAQAAAAAAQAAEAAAAAACAAAEAAAAABxzdHNjAAAAAAAAAAEAAAAB\n",
       "AAAAZAAAAAEAAAGkc3RzegAAAAAAAAAAAAAAZAAABBgAAAAcAAAAGQAAABkAAAAZAAAAIgAAABsA\n",
       "AAAZAAAAGQAAACIAAAAbAAAAGQAAABkAAAAiAAAAGwAAABkAAAAZAAAAIgAAABsAAAAZAAAAGQAA\n",
       "ACIAAAAbAAAAGQAAABkAAAAiAAAAGwAAABkAAAAZAAAAIgAAABsAAAAZAAAAGQAAACIAAAAbAAAA\n",
       "GQAAABkAAAAiAAAAGwAAABkAAAAZAAAAIgAAABsAAAAZAAAAGQAAACIAAAAbAAAAGQAAABkAAAAi\n",
       "AAAAGwAAABkAAAAZAAAAIgAAABsAAAAZAAAAGQAAACIAAAAbAAAAGQAAABkAAAAiAAAAGwAAABkA\n",
       "AAAZAAAAIgAAABsAAAAZAAAAGQAAACIAAAAbAAAAGQAAABkAAAAiAAAAGwAAABkAAAAZAAAAIgAA\n",
       "ABsAAAAZAAAAGQAAACIAAAAbAAAAGQAAABkAAAAiAAAAGwAAABkAAAAZAAAAIgAAABsAAAAZAAAA\n",
       "GQAAACIAAAAbAAAAGQAAABkAAAAhAAAAGwAAABkAAAAUc3RjbwAAAAAAAAABAAAAMAAAAGJ1ZHRh\n",
       "AAAAWm1ldGEAAAAAAAAAIWhkbHIAAAAAAAAAAG1kaXJhcHBsAAAAAAAAAAAAAAAALWlsc3QAAAAl\n",
       "qXRvbwAAAB1kYXRhAAAAAQAAAABMYXZmNTguNDUuMTAw\n",
       "\">\n",
       "  Your browser does not support the video tag.\n",
       "</video>"
      ],
      "text/plain": [
       "<IPython.core.display.HTML object>"
      ]
     },
     "execution_count": 10,
     "metadata": {},
     "output_type": "execute_result"
    }
   ],
   "source": [
    "algorithm = DE(problem, problem.bounds)\n",
    "anim = generate_video(problem, algorithm, figsize=(12, 8), frames=100, interval=100)\n",
    "display_animation(anim)"
   ]
  }
 ],
 "metadata": {
  "kernelspec": {
   "display_name": "Python 3",
   "language": "python",
   "name": "python3"
  },
  "language_info": {
   "codemirror_mode": {
    "name": "ipython",
    "version": 3
   },
   "file_extension": ".py",
   "mimetype": "text/x-python",
   "name": "python",
   "nbconvert_exporter": "python",
   "pygments_lexer": "ipython3",
   "version": "3.8.3"
  }
 },
 "nbformat": 4,
 "nbformat_minor": 2
}
